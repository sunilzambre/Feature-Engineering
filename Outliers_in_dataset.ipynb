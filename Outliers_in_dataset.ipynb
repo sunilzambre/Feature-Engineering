{
 "cells": [
  {
   "cell_type": "markdown",
   "id": "32050873",
   "metadata": {},
   "source": [
    "**What is an outlier?**\n",
    "- An outlier is a data point in a data set that is distant from all other observations. \n",
    "- A data point that lies outside the overall distribution of the dataset."
   ]
  },
  {
   "cell_type": "code",
   "execution_count": 1,
   "id": "857e1777",
   "metadata": {},
   "outputs": [],
   "source": [
    "import numpy as np\n",
    "import matplotlib.pyplot as plt\n",
    "%matplotlib inline"
   ]
  },
  {
   "cell_type": "markdown",
   "id": "e9cb9c05",
   "metadata": {},
   "source": [
    "**What are the criteria to identify an outlier?**\n",
    "- Data point that falls outside of 1.5 times of an interquartile range above the 3rd quartile and below the 1st quartile\n",
    "- Data point that falls outside of 3 standard deviations. we can use a z score and if the z score falls outside of 2         standard deviation"
   ]
  },
  {
   "cell_type": "markdown",
   "id": "cd10bb07",
   "metadata": {},
   "source": [
    "**What is the reason for an outlier to exists in a dataset?**\n",
    "- Variability in the data\n",
    "- An experimental measurement error"
   ]
  },
  {
   "cell_type": "markdown",
   "id": "5fa04c12",
   "metadata": {},
   "source": [
    "**What are the impacts of having outliers in a dataset?**\n",
    "- It causes various problems during our statistical analysis\n",
    "- It may cause a significant impact on the mean and the standard deviation"
   ]
  },
  {
   "cell_type": "markdown",
   "id": "c95a357f",
   "metadata": {},
   "source": [
    "**What are the Various ways of finding the outlier?**\n",
    "- Using scatter plots\n",
    "- Box plot\n",
    "- using z score\n",
    "- using the IQR interquantile range"
   ]
  },
  {
   "cell_type": "code",
   "execution_count": 2,
   "id": "5b42ee13",
   "metadata": {},
   "outputs": [],
   "source": [
    "dataset= [11,10,12,14,12,15,14,13,15,102,12,14,17,19,107, 10,13,12,14,12,108,12,11,14,13,15,10,15,12,10,14,13,15,10]"
   ]
  },
  {
   "cell_type": "markdown",
   "id": "e528f783",
   "metadata": {},
   "source": [
    "## Detecting outlier using Z score"
   ]
  },
  {
   "cell_type": "markdown",
   "id": "fa4dd148",
   "metadata": {},
   "source": [
    "## Formula for Z score = (Observation — Mean)/Standard Deviation"
   ]
  },
  {
   "cell_type": "markdown",
   "id": "07936ef7",
   "metadata": {},
   "source": [
    "**z = (X — μ) / σ**"
   ]
  },
  {
   "cell_type": "code",
   "execution_count": 7,
   "id": "777fdda0",
   "metadata": {},
   "outputs": [],
   "source": [
    "def detect_outliers(data):\n",
    "    outliers = []\n",
    "    threshold = 3\n",
    "    mean = np.mean(data)\n",
    "    std = np.std(data)\n",
    "\n",
    "    for i in data:\n",
    "        z_score = (i - mean) / std\n",
    "        if np.abs(z_score) > threshold:\n",
    "            outliers.append(i)\n",
    "    return outliers"
   ]
  },
  {
   "cell_type": "code",
   "execution_count": 8,
   "id": "1c9db975",
   "metadata": {},
   "outputs": [],
   "source": [
    "outlier_pt = detect_outliers(dataset)"
   ]
  },
  {
   "cell_type": "code",
   "execution_count": 9,
   "id": "0ff92e65",
   "metadata": {},
   "outputs": [
    {
     "data": {
      "text/plain": [
       "[102, 107, 108]"
      ]
     },
     "execution_count": 9,
     "metadata": {},
     "output_type": "execute_result"
    }
   ],
   "source": [
    "outlier_pt"
   ]
  },
  {
   "cell_type": "markdown",
   "id": "41d0606c",
   "metadata": {},
   "source": [
    "# InterQuantile Range\n",
    "### 75%- 25% values in a dataset\n",
    "\n",
    "#### Steps\n",
    "## 1. Arrange the data in increasing order\n",
    "## 2. Calculate first(q1) and third quartile(q3)\n",
    "### 3. Find interquartile range (q3-q1)\n",
    "### 4.Find lower bound q1*1.5\n",
    "### 5.Find upper bound q3*1.5\n",
    "## Anything that lies outside of lower and upper bound is an outlier"
   ]
  },
  {
   "cell_type": "code",
   "execution_count": 12,
   "id": "0843a0a0",
   "metadata": {},
   "outputs": [
    {
     "data": {
      "text/plain": [
       "[10,\n",
       " 10,\n",
       " 10,\n",
       " 10,\n",
       " 10,\n",
       " 11,\n",
       " 11,\n",
       " 12,\n",
       " 12,\n",
       " 12,\n",
       " 12,\n",
       " 12,\n",
       " 12,\n",
       " 12,\n",
       " 13,\n",
       " 13,\n",
       " 13,\n",
       " 13,\n",
       " 14,\n",
       " 14,\n",
       " 14,\n",
       " 14,\n",
       " 14,\n",
       " 14,\n",
       " 15,\n",
       " 15,\n",
       " 15,\n",
       " 15,\n",
       " 15,\n",
       " 17,\n",
       " 19,\n",
       " 102,\n",
       " 107,\n",
       " 108]"
      ]
     },
     "execution_count": 12,
     "metadata": {},
     "output_type": "execute_result"
    }
   ],
   "source": [
    "## Perform all the steps of IQR\n",
    "sorted(dataset)"
   ]
  },
  {
   "cell_type": "code",
   "execution_count": 13,
   "id": "09d4c778",
   "metadata": {},
   "outputs": [],
   "source": [
    "quantile1, quantile3= np.percentile(dataset,[25,75])"
   ]
  },
  {
   "cell_type": "code",
   "execution_count": 14,
   "id": "a7431361",
   "metadata": {},
   "outputs": [
    {
     "name": "stdout",
     "output_type": "stream",
     "text": [
      "12.0 15.0\n"
     ]
    }
   ],
   "source": [
    "print(quantile1,quantile3)"
   ]
  },
  {
   "cell_type": "code",
   "execution_count": 15,
   "id": "09ec1bb2",
   "metadata": {},
   "outputs": [
    {
     "name": "stdout",
     "output_type": "stream",
     "text": [
      "3.0\n"
     ]
    }
   ],
   "source": [
    "#Find the IQR\n",
    "iqr_value = quantile3-quantile1\n",
    "print(iqr_value)"
   ]
  },
  {
   "cell_type": "code",
   "execution_count": 17,
   "id": "f37b2d01",
   "metadata": {},
   "outputs": [],
   "source": [
    "#Find the lower bound value and the higher bound value\n",
    "\n",
    "lower_bound_val = quantile1 -(1.5 * iqr_value) \n",
    "upper_bound_val = quantile3 +(1.5 * iqr_value) "
   ]
  },
  {
   "cell_type": "code",
   "execution_count": 18,
   "id": "8dfb6481",
   "metadata": {},
   "outputs": [
    {
     "name": "stdout",
     "output_type": "stream",
     "text": [
      "7.5 19.5\n"
     ]
    }
   ],
   "source": [
    "print(lower_bound_val,upper_bound_val)"
   ]
  }
 ],
 "metadata": {
  "kernelspec": {
   "display_name": "Python 3 (ipykernel)",
   "language": "python",
   "name": "python3"
  },
  "language_info": {
   "codemirror_mode": {
    "name": "ipython",
    "version": 3
   },
   "file_extension": ".py",
   "mimetype": "text/x-python",
   "name": "python",
   "nbconvert_exporter": "python",
   "pygments_lexer": "ipython3",
   "version": "3.9.12"
  }
 },
 "nbformat": 4,
 "nbformat_minor": 5
}
