{
 "cells": [
  {
   "cell_type": "markdown",
   "id": "0cfe81cd",
   "metadata": {},
   "source": [
    "### Feature Engineering: Outlier, Z score and Standard Deviation"
   ]
  },
  {
   "cell_type": "markdown",
   "id": "60b16a69",
   "metadata": {},
   "source": [
    "**bhp.csv file  which contains property prices in the city of banglore,India.**\n",
    "\n",
    "- You need to examine price_per_sqft column and do following <br>\n",
    "(1)Remove outliers using percentile technique first. Use [0.001, 0.999] for lower and upper bound percentiles\n",
    "\n",
    "(2) After removing outliers in step 1, you get a new dataframe.\n",
    "\n",
    "(3) On step(2) dataframe, use 4 standard deviation to remove outliers\n",
    "\n",
    "(4) Plot histogram for new dataframe that is generated after step (3). Also plot bell curve on same histogram\n",
    "\n",
    "(5) On step(2) dataframe, use zscore of 4 to remove outliers.\n",
    "\n",
    "- This is quite similar to step (3) and you will get exact same result"
   ]
  },
  {
   "cell_type": "code",
   "execution_count": 1,
   "id": "17c45fe4",
   "metadata": {},
   "outputs": [],
   "source": [
    "import pandas as pd\n",
    "import matplotlib\n",
    "from matplotlib import pyplot as plt\n",
    "%matplotlib inline"
   ]
  },
  {
   "cell_type": "code",
   "execution_count": 2,
   "id": "4872f1ca",
   "metadata": {},
   "outputs": [
    {
     "data": {
      "text/html": [
       "<div>\n",
       "<style scoped>\n",
       "    .dataframe tbody tr th:only-of-type {\n",
       "        vertical-align: middle;\n",
       "    }\n",
       "\n",
       "    .dataframe tbody tr th {\n",
       "        vertical-align: top;\n",
       "    }\n",
       "\n",
       "    .dataframe thead th {\n",
       "        text-align: right;\n",
       "    }\n",
       "</style>\n",
       "<table border=\"1\" class=\"dataframe\">\n",
       "  <thead>\n",
       "    <tr style=\"text-align: right;\">\n",
       "      <th></th>\n",
       "      <th>location</th>\n",
       "      <th>size</th>\n",
       "      <th>total_sqft</th>\n",
       "      <th>bath</th>\n",
       "      <th>price</th>\n",
       "      <th>bhk</th>\n",
       "      <th>price_per_sqft</th>\n",
       "    </tr>\n",
       "  </thead>\n",
       "  <tbody>\n",
       "    <tr>\n",
       "      <th>0</th>\n",
       "      <td>Electronic City Phase II</td>\n",
       "      <td>2 BHK</td>\n",
       "      <td>1056.0</td>\n",
       "      <td>2.0</td>\n",
       "      <td>39.07</td>\n",
       "      <td>2</td>\n",
       "      <td>3699</td>\n",
       "    </tr>\n",
       "    <tr>\n",
       "      <th>1</th>\n",
       "      <td>Chikka Tirupathi</td>\n",
       "      <td>4 Bedroom</td>\n",
       "      <td>2600.0</td>\n",
       "      <td>5.0</td>\n",
       "      <td>120.00</td>\n",
       "      <td>4</td>\n",
       "      <td>4615</td>\n",
       "    </tr>\n",
       "    <tr>\n",
       "      <th>2</th>\n",
       "      <td>Uttarahalli</td>\n",
       "      <td>3 BHK</td>\n",
       "      <td>1440.0</td>\n",
       "      <td>2.0</td>\n",
       "      <td>62.00</td>\n",
       "      <td>3</td>\n",
       "      <td>4305</td>\n",
       "    </tr>\n",
       "    <tr>\n",
       "      <th>3</th>\n",
       "      <td>Lingadheeranahalli</td>\n",
       "      <td>3 BHK</td>\n",
       "      <td>1521.0</td>\n",
       "      <td>3.0</td>\n",
       "      <td>95.00</td>\n",
       "      <td>3</td>\n",
       "      <td>6245</td>\n",
       "    </tr>\n",
       "    <tr>\n",
       "      <th>4</th>\n",
       "      <td>Kothanur</td>\n",
       "      <td>2 BHK</td>\n",
       "      <td>1200.0</td>\n",
       "      <td>2.0</td>\n",
       "      <td>51.00</td>\n",
       "      <td>2</td>\n",
       "      <td>4250</td>\n",
       "    </tr>\n",
       "  </tbody>\n",
       "</table>\n",
       "</div>"
      ],
      "text/plain": [
       "                   location       size  total_sqft  bath   price  bhk  \\\n",
       "0  Electronic City Phase II      2 BHK      1056.0   2.0   39.07    2   \n",
       "1          Chikka Tirupathi  4 Bedroom      2600.0   5.0  120.00    4   \n",
       "2               Uttarahalli      3 BHK      1440.0   2.0   62.00    3   \n",
       "3        Lingadheeranahalli      3 BHK      1521.0   3.0   95.00    3   \n",
       "4                  Kothanur      2 BHK      1200.0   2.0   51.00    2   \n",
       "\n",
       "   price_per_sqft  \n",
       "0            3699  \n",
       "1            4615  \n",
       "2            4305  \n",
       "3            6245  \n",
       "4            4250  "
      ]
     },
     "execution_count": 2,
     "metadata": {},
     "output_type": "execute_result"
    }
   ],
   "source": [
    "df = pd.read_csv(\"bhp.csv\")\n",
    "df.head()"
   ]
  },
  {
   "cell_type": "code",
   "execution_count": 3,
   "id": "7da8664b",
   "metadata": {},
   "outputs": [
    {
     "data": {
      "text/plain": [
       "count    1.320000e+04\n",
       "mean     7.920337e+03\n",
       "std      1.067272e+05\n",
       "min      2.670000e+02\n",
       "25%      4.267000e+03\n",
       "50%      5.438000e+03\n",
       "75%      7.317000e+03\n",
       "max      1.200000e+07\n",
       "Name: price_per_sqft, dtype: float64"
      ]
     },
     "execution_count": 3,
     "metadata": {},
     "output_type": "execute_result"
    }
   ],
   "source": [
    "df.price_per_sqft.describe()"
   ]
  },
  {
   "cell_type": "markdown",
   "id": "e70c456e",
   "metadata": {},
   "source": [
    "- from above you can see max is 12000000, which is too much price for price per sqft. \n",
    "- Looks like this dataset has some very bad outliers so we will first remove those with percentile and then use z score."
   ]
  },
  {
   "cell_type": "code",
   "execution_count": 4,
   "id": "5da2b499",
   "metadata": {},
   "outputs": [
    {
     "data": {
      "image/png": "[encoded data removed]",
      "text/plain": [
       "<Figure size 432x288 with 1 Axes>"
      ]
     },
     "metadata": {
      "needs_background": "light"
     },
     "output_type": "display_data"
    }
   ],
   "source": [
    "plt.hist(df.price_per_sqft, bins=20, rwidth=0.8)\n",
    "plt.xlabel('Price per square ft')\n",
    "plt.ylabel('Count')\n",
    "plt.show()"
   ]
  },
  {
   "cell_type": "code",
   "execution_count": 5,
   "id": "e81f74b2",
   "metadata": {},
   "outputs": [
    {
     "data": {
      "image/png": "[encoded data removed]",
      "text/plain": [
       "<Figure size 432x288 with 1 Axes>"
      ]
     },
     "metadata": {
      "needs_background": "light"
     },
     "output_type": "display_data"
    }
   ],
   "source": [
    "#Use log scale to make visualization better\n",
    "plt.hist(df.price_per_sqft, bins=20, rwidth=0.8)\n",
    "plt.xlabel('Price per square ft')\n",
    "plt.ylabel('Count')\n",
    "plt.yscale('log')\n",
    "plt.show()"
   ]
  },
  {
   "cell_type": "markdown",
   "id": "acb2d9c1",
   "metadata": {},
   "source": [
    "## Treat outliers using percentile first"
   ]
  },
  {
   "cell_type": "code",
   "execution_count": 6,
   "id": "21a9c792",
   "metadata": {},
   "outputs": [
    {
     "data": {
      "text/plain": [
       "(1366.184, 50959.36200000098)"
      ]
     },
     "execution_count": 6,
     "metadata": {},
     "output_type": "execute_result"
    }
   ],
   "source": [
    "lower_limit, upper_limit = df.price_per_sqft.quantile([0.001, 0.999])\n",
    "lower_limit, upper_limit"
   ]
  },
  {
   "cell_type": "code",
   "execution_count": 7,
   "id": "a7a3349d",
   "metadata": {},
   "outputs": [
    {
     "data": {
      "text/html": [
       "<div>\n",
       "<style scoped>\n",
       "    .dataframe tbody tr th:only-of-type {\n",
       "        vertical-align: middle;\n",
       "    }\n",
       "\n",
       "    .dataframe tbody tr th {\n",
       "        vertical-align: top;\n",
       "    }\n",
       "\n",
       "    .dataframe thead th {\n",
       "        text-align: right;\n",
       "    }\n",
       "</style>\n",
       "<table border=\"1\" class=\"dataframe\">\n",
       "  <thead>\n",
       "    <tr style=\"text-align: right;\">\n",
       "      <th></th>\n",
       "      <th>location</th>\n",
       "      <th>size</th>\n",
       "      <th>total_sqft</th>\n",
       "      <th>bath</th>\n",
       "      <th>price</th>\n",
       "      <th>bhk</th>\n",
       "      <th>price_per_sqft</th>\n",
       "    </tr>\n",
       "  </thead>\n",
       "  <tbody>\n",
       "    <tr>\n",
       "      <th>9144</th>\n",
       "      <td>other</td>\n",
       "      <td>4 Bedroom</td>\n",
       "      <td>10961.0</td>\n",
       "      <td>4.0</td>\n",
       "      <td>80.0</td>\n",
       "      <td>4</td>\n",
       "      <td>729</td>\n",
       "    </tr>\n",
       "    <tr>\n",
       "      <th>345</th>\n",
       "      <td>other</td>\n",
       "      <td>3 Bedroom</td>\n",
       "      <td>11.0</td>\n",
       "      <td>3.0</td>\n",
       "      <td>74.0</td>\n",
       "      <td>3</td>\n",
       "      <td>672727</td>\n",
       "    </tr>\n",
       "    <tr>\n",
       "      <th>12328</th>\n",
       "      <td>other</td>\n",
       "      <td>4 Bedroom</td>\n",
       "      <td>4350.0</td>\n",
       "      <td>8.0</td>\n",
       "      <td>2600.0</td>\n",
       "      <td>4</td>\n",
       "      <td>59770</td>\n",
       "    </tr>\n",
       "    <tr>\n",
       "      <th>11635</th>\n",
       "      <td>Begur</td>\n",
       "      <td>3 BHK</td>\n",
       "      <td>2400.0</td>\n",
       "      <td>3.0</td>\n",
       "      <td>12.0</td>\n",
       "      <td>3</td>\n",
       "      <td>500</td>\n",
       "    </tr>\n",
       "    <tr>\n",
       "      <th>2392</th>\n",
       "      <td>other</td>\n",
       "      <td>4 Bedroom</td>\n",
       "      <td>2000.0</td>\n",
       "      <td>3.0</td>\n",
       "      <td>25.0</td>\n",
       "      <td>4</td>\n",
       "      <td>1250</td>\n",
       "    </tr>\n",
       "    <tr>\n",
       "      <th>1005</th>\n",
       "      <td>other</td>\n",
       "      <td>1 BHK</td>\n",
       "      <td>15.0</td>\n",
       "      <td>1.0</td>\n",
       "      <td>30.0</td>\n",
       "      <td>1</td>\n",
       "      <td>200000</td>\n",
       "    </tr>\n",
       "    <tr>\n",
       "      <th>798</th>\n",
       "      <td>other</td>\n",
       "      <td>4 Bedroom</td>\n",
       "      <td>10961.0</td>\n",
       "      <td>4.0</td>\n",
       "      <td>80.0</td>\n",
       "      <td>4</td>\n",
       "      <td>729</td>\n",
       "    </tr>\n",
       "    <tr>\n",
       "      <th>7012</th>\n",
       "      <td>other</td>\n",
       "      <td>1 BHK</td>\n",
       "      <td>650.0</td>\n",
       "      <td>1.0</td>\n",
       "      <td>500.0</td>\n",
       "      <td>1</td>\n",
       "      <td>76923</td>\n",
       "    </tr>\n",
       "    <tr>\n",
       "      <th>1867</th>\n",
       "      <td>other</td>\n",
       "      <td>3 Bedroom</td>\n",
       "      <td>52272.0</td>\n",
       "      <td>2.0</td>\n",
       "      <td>140.0</td>\n",
       "      <td>3</td>\n",
       "      <td>267</td>\n",
       "    </tr>\n",
       "    <tr>\n",
       "      <th>5417</th>\n",
       "      <td>Ulsoor</td>\n",
       "      <td>4 BHK</td>\n",
       "      <td>36000.0</td>\n",
       "      <td>4.0</td>\n",
       "      <td>450.0</td>\n",
       "      <td>4</td>\n",
       "      <td>1250</td>\n",
       "    </tr>\n",
       "  </tbody>\n",
       "</table>\n",
       "</div>"
      ],
      "text/plain": [
       "      location       size  total_sqft  bath   price  bhk  price_per_sqft\n",
       "9144     other  4 Bedroom     10961.0   4.0    80.0    4             729\n",
       "345      other  3 Bedroom        11.0   3.0    74.0    3          672727\n",
       "12328    other  4 Bedroom      4350.0   8.0  2600.0    4           59770\n",
       "11635    Begur      3 BHK      2400.0   3.0    12.0    3             500\n",
       "2392     other  4 Bedroom      2000.0   3.0    25.0    4            1250\n",
       "1005     other      1 BHK        15.0   1.0    30.0    1          200000\n",
       "798      other  4 Bedroom     10961.0   4.0    80.0    4             729\n",
       "7012     other      1 BHK       650.0   1.0   500.0    1           76923\n",
       "1867     other  3 Bedroom     52272.0   2.0   140.0    3             267\n",
       "5417    Ulsoor      4 BHK     36000.0   4.0   450.0    4            1250"
      ]
     },
     "execution_count": 7,
     "metadata": {},
     "output_type": "execute_result"
    }
   ],
   "source": [
    "outliers = df[(df.price_per_sqft > upper_limit) | (df.price_per_sqft < lower_limit)]\n",
    "outliers.sample(10)"
   ]
  },
  {
   "cell_type": "markdown",
   "id": "2895326a",
   "metadata": {},
   "source": [
    "- Above shows properties that has price_per_sqft value such as 500 rs which is very very low for the city of banglore. \n",
    "- You would be very lucky if you can find such as property.\n",
    "- Also we have properties that has price per sqft value such as 12000000 which is way too high. \n",
    "- It seems almost impossible and even if it is legitimate it can help data analysis process if we remove such a data point."
   ]
  },
  {
   "cell_type": "code",
   "execution_count": 8,
   "id": "3ef1df0c",
   "metadata": {},
   "outputs": [
    {
     "data": {
      "text/plain": [
       "(13172, 7)"
      ]
     },
     "execution_count": 8,
     "metadata": {},
     "output_type": "execute_result"
    }
   ],
   "source": [
    "df2 = df[(df.price_per_sqft < upper_limit) & (df.price_per_sqft > lower_limit)]\n",
    "df2.shape"
   ]
  },
  {
   "cell_type": "code",
   "execution_count": 9,
   "id": "2fb57680",
   "metadata": {},
   "outputs": [
    {
     "data": {
      "text/plain": [
       "(13200, 7)"
      ]
     },
     "execution_count": 9,
     "metadata": {},
     "output_type": "execute_result"
    }
   ],
   "source": [
    "df.shape"
   ]
  },
  {
   "cell_type": "code",
   "execution_count": 10,
   "id": "e88b15f4",
   "metadata": {},
   "outputs": [
    {
     "data": {
      "text/plain": [
       "28"
      ]
     },
     "execution_count": 10,
     "metadata": {},
     "output_type": "execute_result"
    }
   ],
   "source": [
    "df.shape[0] - df2.shape[0]"
   ]
  },
  {
   "cell_type": "markdown",
   "id": "43d77470",
   "metadata": {},
   "source": [
    "**Removed total 28 outliers**"
   ]
  },
  {
   "cell_type": "markdown",
   "id": "6c3f7455",
   "metadata": {},
   "source": [
    "## Remove outliers using 4 standard deviation"
   ]
  },
  {
   "cell_type": "code",
   "execution_count": 11,
   "id": "f091bb5d",
   "metadata": {},
   "outputs": [
    {
     "data": {
      "text/plain": [
       "(23227.73653589429, -9900.429065502549)"
      ]
     },
     "execution_count": 11,
     "metadata": {},
     "output_type": "execute_result"
    }
   ],
   "source": [
    "max_limit = df2.price_per_sqft.mean() + 4 * df2.price_per_sqft.std()\n",
    "min_limit = df2.price_per_sqft.mean() - 4 * df2.price_per_sqft.std()\n",
    "max_limit, min_limit"
   ]
  },
  {
   "cell_type": "code",
   "execution_count": 12,
   "id": "276a395d",
   "metadata": {},
   "outputs": [
    {
     "data": {
      "text/html": [
       "<div>\n",
       "<style scoped>\n",
       "    .dataframe tbody tr th:only-of-type {\n",
       "        vertical-align: middle;\n",
       "    }\n",
       "\n",
       "    .dataframe tbody tr th {\n",
       "        vertical-align: top;\n",
       "    }\n",
       "\n",
       "    .dataframe thead th {\n",
       "        text-align: right;\n",
       "    }\n",
       "</style>\n",
       "<table border=\"1\" class=\"dataframe\">\n",
       "  <thead>\n",
       "    <tr style=\"text-align: right;\">\n",
       "      <th></th>\n",
       "      <th>location</th>\n",
       "      <th>size</th>\n",
       "      <th>total_sqft</th>\n",
       "      <th>bath</th>\n",
       "      <th>price</th>\n",
       "      <th>bhk</th>\n",
       "      <th>price_per_sqft</th>\n",
       "    </tr>\n",
       "  </thead>\n",
       "  <tbody>\n",
       "    <tr>\n",
       "      <th>9808</th>\n",
       "      <td>Uttarahalli</td>\n",
       "      <td>6 Bedroom</td>\n",
       "      <td>1200.00</td>\n",
       "      <td>6.0</td>\n",
       "      <td>330.0</td>\n",
       "      <td>6</td>\n",
       "      <td>27500</td>\n",
       "    </tr>\n",
       "    <tr>\n",
       "      <th>11838</th>\n",
       "      <td>Vijayanagar</td>\n",
       "      <td>4 Bedroom</td>\n",
       "      <td>1500.00</td>\n",
       "      <td>4.0</td>\n",
       "      <td>360.0</td>\n",
       "      <td>4</td>\n",
       "      <td>24000</td>\n",
       "    </tr>\n",
       "    <tr>\n",
       "      <th>5639</th>\n",
       "      <td>other</td>\n",
       "      <td>3 BHK</td>\n",
       "      <td>2777.29</td>\n",
       "      <td>5.0</td>\n",
       "      <td>650.0</td>\n",
       "      <td>3</td>\n",
       "      <td>23404</td>\n",
       "    </tr>\n",
       "    <tr>\n",
       "      <th>7561</th>\n",
       "      <td>KR Puram</td>\n",
       "      <td>8 Bedroom</td>\n",
       "      <td>1500.00</td>\n",
       "      <td>7.0</td>\n",
       "      <td>382.0</td>\n",
       "      <td>8</td>\n",
       "      <td>25466</td>\n",
       "    </tr>\n",
       "    <tr>\n",
       "      <th>4993</th>\n",
       "      <td>other</td>\n",
       "      <td>6 Bedroom</td>\n",
       "      <td>825.00</td>\n",
       "      <td>6.0</td>\n",
       "      <td>400.0</td>\n",
       "      <td>6</td>\n",
       "      <td>48484</td>\n",
       "    </tr>\n",
       "    <tr>\n",
       "      <th>12393</th>\n",
       "      <td>Electronic City Phase II</td>\n",
       "      <td>1 BHK</td>\n",
       "      <td>1200.00</td>\n",
       "      <td>1.0</td>\n",
       "      <td>295.0</td>\n",
       "      <td>1</td>\n",
       "      <td>24583</td>\n",
       "    </tr>\n",
       "    <tr>\n",
       "      <th>8083</th>\n",
       "      <td>other</td>\n",
       "      <td>3 BHK</td>\n",
       "      <td>2750.00</td>\n",
       "      <td>3.0</td>\n",
       "      <td>943.0</td>\n",
       "      <td>3</td>\n",
       "      <td>34290</td>\n",
       "    </tr>\n",
       "    <tr>\n",
       "      <th>1795</th>\n",
       "      <td>2nd Stage Nagarbhavi</td>\n",
       "      <td>5 Bedroom</td>\n",
       "      <td>1200.00</td>\n",
       "      <td>4.0</td>\n",
       "      <td>285.0</td>\n",
       "      <td>5</td>\n",
       "      <td>23750</td>\n",
       "    </tr>\n",
       "    <tr>\n",
       "      <th>2825</th>\n",
       "      <td>HBR Layout</td>\n",
       "      <td>9 Bedroom</td>\n",
       "      <td>1200.00</td>\n",
       "      <td>6.0</td>\n",
       "      <td>280.0</td>\n",
       "      <td>9</td>\n",
       "      <td>23333</td>\n",
       "    </tr>\n",
       "    <tr>\n",
       "      <th>6134</th>\n",
       "      <td>Basavangudi</td>\n",
       "      <td>6 Bedroom</td>\n",
       "      <td>1754.00</td>\n",
       "      <td>6.0</td>\n",
       "      <td>650.0</td>\n",
       "      <td>6</td>\n",
       "      <td>37058</td>\n",
       "    </tr>\n",
       "  </tbody>\n",
       "</table>\n",
       "</div>"
      ],
      "text/plain": [
       "                       location       size  total_sqft  bath  price  bhk  \\\n",
       "9808                Uttarahalli  6 Bedroom     1200.00   6.0  330.0    6   \n",
       "11838               Vijayanagar  4 Bedroom     1500.00   4.0  360.0    4   \n",
       "5639                      other      3 BHK     2777.29   5.0  650.0    3   \n",
       "7561                   KR Puram  8 Bedroom     1500.00   7.0  382.0    8   \n",
       "4993                      other  6 Bedroom      825.00   6.0  400.0    6   \n",
       "12393  Electronic City Phase II      1 BHK     1200.00   1.0  295.0    1   \n",
       "8083                      other      3 BHK     2750.00   3.0  943.0    3   \n",
       "1795       2nd Stage Nagarbhavi  5 Bedroom     1200.00   4.0  285.0    5   \n",
       "2825                 HBR Layout  9 Bedroom     1200.00   6.0  280.0    9   \n",
       "6134                Basavangudi  6 Bedroom     1754.00   6.0  650.0    6   \n",
       "\n",
       "       price_per_sqft  \n",
       "9808            27500  \n",
       "11838           24000  \n",
       "5639            23404  \n",
       "7561            25466  \n",
       "4993            48484  \n",
       "12393           24583  \n",
       "8083            34290  \n",
       "1795            23750  \n",
       "2825            23333  \n",
       "6134            37058  "
      ]
     },
     "execution_count": 12,
     "metadata": {},
     "output_type": "execute_result"
    }
   ],
   "source": [
    "df2[(df2.price_per_sqft > max_limit) | (df2.price_per_sqft < min_limit)].sample(10)"
   ]
  },
  {
   "cell_type": "code",
   "execution_count": 13,
   "id": "f8ee5d81",
   "metadata": {},
   "outputs": [
    {
     "data": {
      "text/plain": [
       "(13047, 7)"
      ]
     },
     "execution_count": 13,
     "metadata": {},
     "output_type": "execute_result"
    }
   ],
   "source": [
    "df3 = df2[(df2.price_per_sqft > min_limit) & (df2.price_per_sqft < max_limit)]\n",
    "df3.shape"
   ]
  },
  {
   "cell_type": "code",
   "execution_count": 14,
   "id": "d338928f",
   "metadata": {},
   "outputs": [
    {
     "data": {
      "text/plain": [
       "125"
      ]
     },
     "execution_count": 14,
     "metadata": {},
     "output_type": "execute_result"
    }
   ],
   "source": [
    "df2.shape[0] - df3.shape[0]"
   ]
  },
  {
   "cell_type": "code",
   "execution_count": 15,
   "id": "a4e89af8",
   "metadata": {},
   "outputs": [
    {
     "data": {
      "image/png": "[encoded data removed]",
      "text/plain": [
       "<Figure size 432x288 with 1 Axes>"
      ]
     },
     "metadata": {
      "needs_background": "light"
     },
     "output_type": "display_data"
    }
   ],
   "source": [
    "plt.hist(df3.price_per_sqft, bins=20, rwidth=0.8)\n",
    "plt.xlabel('Price per square ft')\n",
    "plt.ylabel('Count')\n",
    "plt.show()"
   ]
  },
  {
   "cell_type": "code",
   "execution_count": 16,
   "id": "93cfc016",
   "metadata": {},
   "outputs": [
    {
     "data": {
      "text/plain": [
       "[<matplotlib.lines.Line2D at 0x2629267d5b0>]"
      ]
     },
     "execution_count": 16,
     "metadata": {},
     "output_type": "execute_result"
    },
    {
     "data": {
      "image/png": "[encoded data removed]",
      "text/plain": [
       "<Figure size 432x288 with 1 Axes>"
      ]
     },
     "metadata": {
      "needs_background": "light"
     },
     "output_type": "display_data"
    }
   ],
   "source": [
    "from scipy.stats import norm\n",
    "import numpy as np\n",
    "\n",
    "plt.hist(df3.price_per_sqft, bins=20, rwidth=0.8, density=True)\n",
    "plt.xlabel('Height (inches)')\n",
    "plt.ylabel('Count')\n",
    "\n",
    "rng = np.arange(-5000, df3.price_per_sqft.max(), 100)\n",
    "plt.plot(rng, norm.pdf(rng,df3.price_per_sqft.mean(),df3.price_per_sqft.std()))"
   ]
  },
  {
   "cell_type": "markdown",
   "id": "245826b3",
   "metadata": {},
   "source": [
    "# Remove outliers using z score. Use Z score of 4 as your thresold."
   ]
  },
  {
   "cell_type": "code",
   "execution_count": 17,
   "id": "da88c34e",
   "metadata": {},
   "outputs": [
    {
     "name": "stderr",
     "output_type": "stream",
     "text": [
      "C:\\Users\\Admin\\AppData\\Local\\Temp\\ipykernel_3952\\2329352600.py:1: SettingWithCopyWarning: \n",
      "A value is trying to be set on a copy of a slice from a DataFrame.\n",
      "Try using .loc[row_indexer,col_indexer] = value instead\n",
      "\n",
      "See the caveats in the documentation: https://pandas.pydata.org/pandas-docs/stable/user_guide/indexing.html#returning-a-view-versus-a-copy\n",
      "  df2['zscore'] = (df2.price_per_sqft-df2.price_per_sqft.mean()) / df2.price_per_sqft.std()\n"
     ]
    },
    {
     "data": {
      "text/html": [
       "<div>\n",
       "<style scoped>\n",
       "    .dataframe tbody tr th:only-of-type {\n",
       "        vertical-align: middle;\n",
       "    }\n",
       "\n",
       "    .dataframe tbody tr th {\n",
       "        vertical-align: top;\n",
       "    }\n",
       "\n",
       "    .dataframe thead th {\n",
       "        text-align: right;\n",
       "    }\n",
       "</style>\n",
       "<table border=\"1\" class=\"dataframe\">\n",
       "  <thead>\n",
       "    <tr style=\"text-align: right;\">\n",
       "      <th></th>\n",
       "      <th>location</th>\n",
       "      <th>size</th>\n",
       "      <th>total_sqft</th>\n",
       "      <th>bath</th>\n",
       "      <th>price</th>\n",
       "      <th>bhk</th>\n",
       "      <th>price_per_sqft</th>\n",
       "      <th>zscore</th>\n",
       "    </tr>\n",
       "  </thead>\n",
       "  <tbody>\n",
       "    <tr>\n",
       "      <th>9079</th>\n",
       "      <td>other</td>\n",
       "      <td>3 BHK</td>\n",
       "      <td>2048.0</td>\n",
       "      <td>3.0</td>\n",
       "      <td>206.0</td>\n",
       "      <td>3</td>\n",
       "      <td>10058</td>\n",
       "      <td>0.819688</td>\n",
       "    </tr>\n",
       "    <tr>\n",
       "      <th>11530</th>\n",
       "      <td>other</td>\n",
       "      <td>2 BHK</td>\n",
       "      <td>1040.0</td>\n",
       "      <td>2.0</td>\n",
       "      <td>36.4</td>\n",
       "      <td>2</td>\n",
       "      <td>3500</td>\n",
       "      <td>-0.763979</td>\n",
       "    </tr>\n",
       "    <tr>\n",
       "      <th>9858</th>\n",
       "      <td>Electronic City</td>\n",
       "      <td>4 Bedroom</td>\n",
       "      <td>1800.0</td>\n",
       "      <td>3.0</td>\n",
       "      <td>190.0</td>\n",
       "      <td>4</td>\n",
       "      <td>10555</td>\n",
       "      <td>0.939707</td>\n",
       "    </tr>\n",
       "    <tr>\n",
       "      <th>8795</th>\n",
       "      <td>Kanakpura Road</td>\n",
       "      <td>1 BHK</td>\n",
       "      <td>381.0</td>\n",
       "      <td>1.0</td>\n",
       "      <td>28.0</td>\n",
       "      <td>1</td>\n",
       "      <td>7349</td>\n",
       "      <td>0.165502</td>\n",
       "    </tr>\n",
       "    <tr>\n",
       "      <th>4036</th>\n",
       "      <td>Whitefield</td>\n",
       "      <td>3 BHK</td>\n",
       "      <td>3480.0</td>\n",
       "      <td>4.0</td>\n",
       "      <td>284.0</td>\n",
       "      <td>3</td>\n",
       "      <td>8160</td>\n",
       "      <td>0.361347</td>\n",
       "    </tr>\n",
       "    <tr>\n",
       "      <th>12123</th>\n",
       "      <td>other</td>\n",
       "      <td>4 Bedroom</td>\n",
       "      <td>600.0</td>\n",
       "      <td>3.0</td>\n",
       "      <td>95.0</td>\n",
       "      <td>4</td>\n",
       "      <td>15833</td>\n",
       "      <td>2.214272</td>\n",
       "    </tr>\n",
       "    <tr>\n",
       "      <th>7572</th>\n",
       "      <td>Electronic City Phase II</td>\n",
       "      <td>2 BHK</td>\n",
       "      <td>1286.0</td>\n",
       "      <td>2.0</td>\n",
       "      <td>69.0</td>\n",
       "      <td>2</td>\n",
       "      <td>5365</td>\n",
       "      <td>-0.313607</td>\n",
       "    </tr>\n",
       "    <tr>\n",
       "      <th>8898</th>\n",
       "      <td>Old Madras Road</td>\n",
       "      <td>3 BHK</td>\n",
       "      <td>1350.0</td>\n",
       "      <td>3.0</td>\n",
       "      <td>45.9</td>\n",
       "      <td>3</td>\n",
       "      <td>3400</td>\n",
       "      <td>-0.788128</td>\n",
       "    </tr>\n",
       "    <tr>\n",
       "      <th>8849</th>\n",
       "      <td>other</td>\n",
       "      <td>3 BHK</td>\n",
       "      <td>2250.0</td>\n",
       "      <td>3.0</td>\n",
       "      <td>180.0</td>\n",
       "      <td>3</td>\n",
       "      <td>8000</td>\n",
       "      <td>0.322709</td>\n",
       "    </tr>\n",
       "    <tr>\n",
       "      <th>936</th>\n",
       "      <td>Koramangala</td>\n",
       "      <td>4 BHK</td>\n",
       "      <td>3500.0</td>\n",
       "      <td>5.0</td>\n",
       "      <td>425.0</td>\n",
       "      <td>4</td>\n",
       "      <td>12142</td>\n",
       "      <td>1.322946</td>\n",
       "    </tr>\n",
       "  </tbody>\n",
       "</table>\n",
       "</div>"
      ],
      "text/plain": [
       "                       location       size  total_sqft  bath  price  bhk  \\\n",
       "9079                      other      3 BHK      2048.0   3.0  206.0    3   \n",
       "11530                     other      2 BHK      1040.0   2.0   36.4    2   \n",
       "9858            Electronic City  4 Bedroom      1800.0   3.0  190.0    4   \n",
       "8795             Kanakpura Road      1 BHK       381.0   1.0   28.0    1   \n",
       "4036                 Whitefield      3 BHK      3480.0   4.0  284.0    3   \n",
       "12123                     other  4 Bedroom       600.0   3.0   95.0    4   \n",
       "7572   Electronic City Phase II      2 BHK      1286.0   2.0   69.0    2   \n",
       "8898            Old Madras Road      3 BHK      1350.0   3.0   45.9    3   \n",
       "8849                      other      3 BHK      2250.0   3.0  180.0    3   \n",
       "936                 Koramangala      4 BHK      3500.0   5.0  425.0    4   \n",
       "\n",
       "       price_per_sqft    zscore  \n",
       "9079            10058  0.819688  \n",
       "11530            3500 -0.763979  \n",
       "9858            10555  0.939707  \n",
       "8795             7349  0.165502  \n",
       "4036             8160  0.361347  \n",
       "12123           15833  2.214272  \n",
       "7572             5365 -0.313607  \n",
       "8898             3400 -0.788128  \n",
       "8849             8000  0.322709  \n",
       "936             12142  1.322946  "
      ]
     },
     "execution_count": 17,
     "metadata": {},
     "output_type": "execute_result"
    }
   ],
   "source": [
    "df2['zscore'] = (df2.price_per_sqft-df2.price_per_sqft.mean()) / df2.price_per_sqft.std()\n",
    "df2.sample(10)"
   ]
  },
  {
   "cell_type": "code",
   "execution_count": 18,
   "id": "41d1802e",
   "metadata": {},
   "outputs": [
    {
     "data": {
      "text/plain": [
       "(125, 8)"
      ]
     },
     "execution_count": 18,
     "metadata": {},
     "output_type": "execute_result"
    }
   ],
   "source": [
    "outliers_z = df2[(df2.zscore < -4) | (df2.zscore > 4)]\n",
    "outliers_z.shape"
   ]
  },
  {
   "cell_type": "code",
   "execution_count": 19,
   "id": "62a637c7",
   "metadata": {},
   "outputs": [
    {
     "data": {
      "text/html": [
       "<div>\n",
       "<style scoped>\n",
       "    .dataframe tbody tr th:only-of-type {\n",
       "        vertical-align: middle;\n",
       "    }\n",
       "\n",
       "    .dataframe tbody tr th {\n",
       "        vertical-align: top;\n",
       "    }\n",
       "\n",
       "    .dataframe thead th {\n",
       "        text-align: right;\n",
       "    }\n",
       "</style>\n",
       "<table border=\"1\" class=\"dataframe\">\n",
       "  <thead>\n",
       "    <tr style=\"text-align: right;\">\n",
       "      <th></th>\n",
       "      <th>location</th>\n",
       "      <th>size</th>\n",
       "      <th>total_sqft</th>\n",
       "      <th>bath</th>\n",
       "      <th>price</th>\n",
       "      <th>bhk</th>\n",
       "      <th>price_per_sqft</th>\n",
       "      <th>zscore</th>\n",
       "    </tr>\n",
       "  </thead>\n",
       "  <tbody>\n",
       "    <tr>\n",
       "      <th>9</th>\n",
       "      <td>other</td>\n",
       "      <td>6 Bedroom</td>\n",
       "      <td>1020.0</td>\n",
       "      <td>6.0</td>\n",
       "      <td>370.0</td>\n",
       "      <td>6</td>\n",
       "      <td>36274</td>\n",
       "      <td>7.150495</td>\n",
       "    </tr>\n",
       "    <tr>\n",
       "      <th>6109</th>\n",
       "      <td>HRBR Layout</td>\n",
       "      <td>6 Bedroom</td>\n",
       "      <td>1000.0</td>\n",
       "      <td>6.0</td>\n",
       "      <td>275.0</td>\n",
       "      <td>6</td>\n",
       "      <td>27500</td>\n",
       "      <td>5.031693</td>\n",
       "    </tr>\n",
       "    <tr>\n",
       "      <th>8083</th>\n",
       "      <td>other</td>\n",
       "      <td>3 BHK</td>\n",
       "      <td>2750.0</td>\n",
       "      <td>3.0</td>\n",
       "      <td>943.0</td>\n",
       "      <td>3</td>\n",
       "      <td>34290</td>\n",
       "      <td>6.671386</td>\n",
       "    </tr>\n",
       "    <tr>\n",
       "      <th>190</th>\n",
       "      <td>Bellandur</td>\n",
       "      <td>4 Bedroom</td>\n",
       "      <td>1200.0</td>\n",
       "      <td>5.0</td>\n",
       "      <td>325.0</td>\n",
       "      <td>4</td>\n",
       "      <td>27083</td>\n",
       "      <td>4.930994</td>\n",
       "    </tr>\n",
       "    <tr>\n",
       "      <th>7561</th>\n",
       "      <td>KR Puram</td>\n",
       "      <td>8 Bedroom</td>\n",
       "      <td>1500.0</td>\n",
       "      <td>7.0</td>\n",
       "      <td>382.0</td>\n",
       "      <td>8</td>\n",
       "      <td>25466</td>\n",
       "      <td>4.540510</td>\n",
       "    </tr>\n",
       "  </tbody>\n",
       "</table>\n",
       "</div>"
      ],
      "text/plain": [
       "         location       size  total_sqft  bath  price  bhk  price_per_sqft  \\\n",
       "9           other  6 Bedroom      1020.0   6.0  370.0    6           36274   \n",
       "6109  HRBR Layout  6 Bedroom      1000.0   6.0  275.0    6           27500   \n",
       "8083        other      3 BHK      2750.0   3.0  943.0    3           34290   \n",
       "190     Bellandur  4 Bedroom      1200.0   5.0  325.0    4           27083   \n",
       "7561     KR Puram  8 Bedroom      1500.0   7.0  382.0    8           25466   \n",
       "\n",
       "        zscore  \n",
       "9     7.150495  \n",
       "6109  5.031693  \n",
       "8083  6.671386  \n",
       "190   4.930994  \n",
       "7561  4.540510  "
      ]
     },
     "execution_count": 19,
     "metadata": {},
     "output_type": "execute_result"
    }
   ],
   "source": [
    "outliers_z.sample(5)"
   ]
  },
  {
   "cell_type": "code",
   "execution_count": 20,
   "id": "bfbe10b5",
   "metadata": {},
   "outputs": [
    {
     "data": {
      "text/plain": [
       "(13047, 8)"
      ]
     },
     "execution_count": 20,
     "metadata": {},
     "output_type": "execute_result"
    }
   ],
   "source": [
    "df4 = df2[(df2.zscore > -4) & (df2.zscore < 4)]\n",
    "df4.shape"
   ]
  },
  {
   "cell_type": "code",
   "execution_count": 21,
   "id": "21716e17",
   "metadata": {},
   "outputs": [
    {
     "data": {
      "text/plain": [
       "125"
      ]
     },
     "execution_count": 21,
     "metadata": {},
     "output_type": "execute_result"
    }
   ],
   "source": [
    "df2.shape[0] - df4.shape[0]"
   ]
  },
  {
   "cell_type": "markdown",
   "id": "f0cdb907",
   "metadata": {},
   "source": [
    "### Removed 125 outliers. The result would be exactly same as 4 standard deviation."
   ]
  }
 ],
 "metadata": {
  "kernelspec": {
   "display_name": "Python 3 (ipykernel)",
   "language": "python",
   "name": "python3"
  },
  "language_info": {
   "codemirror_mode": {
    "name": "ipython",
    "version": 3
   },
   "file_extension": ".py",
   "mimetype": "text/x-python",
   "name": "python",
   "nbconvert_exporter": "python",
   "pygments_lexer": "ipython3",
   "version": "3.9.12"
  }
 },
 "nbformat": 4,
 "nbformat_minor": 5
}
