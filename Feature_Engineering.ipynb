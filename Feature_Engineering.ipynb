{
 "cells": [
  {
   "cell_type": "markdown",
   "id": "d2aeabdf",
   "metadata": {},
   "source": [
    "## DATA INTERPOLATION"
   ]
  },
  {
   "cell_type": "markdown",
   "id": "d648dcb0",
   "metadata": {},
   "source": [
    "- It is the process of estimating values within dataset based on known values "
   ]
  },
  {
   "cell_type": "markdown",
   "id": "860781cf",
   "metadata": {},
   "source": [
    "## Types of data interpolation"
   ]
  },
  {
   "cell_type": "markdown",
   "id": "416fe955",
   "metadata": {},
   "source": [
    "**1) Linear Interpolation.**\n",
    "**2) Cubic Interpolation with scipy.**\n",
    "**3) Polynomial Interpolation.**"
   ]
  },
  {
   "cell_type": "markdown",
   "id": "81cb878d",
   "metadata": {},
   "source": [
    "### 1. Linear Interpolation"
   ]
  },
  {
   "cell_type": "code",
   "execution_count": 1,
   "id": "133f9c83",
   "metadata": {},
   "outputs": [],
   "source": [
    "# importing lib\n",
    "import pandas as pd\n",
    "import numpy as np\n",
    "import matplotlib.pyplot as plt\n",
    "%matplotlib inline\n",
    "import seaborn as sns"
   ]
  },
  {
   "cell_type": "code",
   "execution_count": 2,
   "id": "c8772f9e",
   "metadata": {},
   "outputs": [],
   "source": [
    "# creating array\n",
    "x = np.array([1,2,3,4,5])\n",
    "y = np.array([2,4,6,8,10])"
   ]
  },
  {
   "cell_type": "code",
   "execution_count": 22,
   "id": "7c44769e",
   "metadata": {},
   "outputs": [
    {
     "data": {
      "image/png": "[encoded data removed]",
      "text/plain": [
       "<Figure size 432x288 with 1 Axes>"
      ]
     },
     "metadata": {
      "needs_background": "light"
     },
     "output_type": "display_data"
    }
   ],
   "source": [
    "# assuming x and y are defined as arrays or lists\n",
    "sns.scatterplot(x=x, y=y, color='blue')\n",
    "plt.title('Scatter plot with Seaborn and Matplotlib')\n",
    "plt.show()"
   ]
  },
  {
   "cell_type": "code",
   "execution_count": 7,
   "id": "078e08e1",
   "metadata": {},
   "outputs": [
    {
     "data": {
      "text/plain": [
       "array([ 2.        ,  2.88888889,  3.77777778,  4.66666667,  5.55555556,\n",
       "        6.44444444,  7.33333333,  8.22222222,  9.11111111, 10.        ])"
      ]
     },
     "execution_count": 7,
     "metadata": {},
     "output_type": "execute_result"
    }
   ],
   "source": [
    "# interpolation\n",
    "x_new = np.linspace(1,5,10) # create new x values \n",
    "y_interp = np.interp(x_new,x,y)\n",
    "y_interp"
   ]
  },
  {
   "cell_type": "code",
   "execution_count": 9,
   "id": "5bb8ac71",
   "metadata": {},
   "outputs": [
    {
     "data": {
      "image/png": "[encoded data removed]",
      "text/plain": [
       "<Figure size 432x288 with 1 Axes>"
      ]
     },
     "metadata": {
      "needs_background": "light"
     },
     "output_type": "display_data"
    }
   ],
   "source": [
    "# visualization after linear interpolation\n",
    "sns.scatterplot(x=x_new,y=y_interp)\n",
    "plt.title(\"With linear interpolation\")\n",
    "plt.show()"
   ]
  },
  {
   "cell_type": "markdown",
   "id": "90ccf638",
   "metadata": {},
   "source": [
    "## 2. Cubic Interpolation Using Scipy"
   ]
  },
  {
   "cell_type": "code",
   "execution_count": 10,
   "id": "798fc3ed",
   "metadata": {},
   "outputs": [],
   "source": [
    "# creating array\n",
    "x = np.array([1,2,3,4,5])\n",
    "y = np.array([2,8,27,64,125])"
   ]
  },
  {
   "cell_type": "code",
   "execution_count": 13,
   "id": "fb3a8ef7",
   "metadata": {},
   "outputs": [
    {
     "data": {
      "image/png": "[encoded data removed]",
      "text/plain": [
       "<Figure size 432x288 with 1 Axes>"
      ]
     },
     "metadata": {
      "needs_background": "light"
     },
     "output_type": "display_data"
    }
   ],
   "source": [
    "# visualization\n",
    "sns.scatterplot(x=x, y=y, color ='blue')\n",
    "plt.title('Without cubic interpolation')\n",
    "plt.show()"
   ]
  },
  {
   "cell_type": "code",
   "execution_count": 14,
   "id": "2b84245c",
   "metadata": {},
   "outputs": [],
   "source": [
    "# interpolation\n",
    "from scipy.interpolate import interp1d\n",
    "f = interp1d(x,y,kind='cubic')"
   ]
  },
  {
   "cell_type": "code",
   "execution_count": 15,
   "id": "9362aaaf",
   "metadata": {},
   "outputs": [],
   "source": [
    "x_new = np.linspace(1,5,10)\n",
    "y_interpt = f(x_new)"
   ]
  },
  {
   "cell_type": "code",
   "execution_count": 16,
   "id": "b62c183a",
   "metadata": {},
   "outputs": [
    {
     "data": {
      "image/png": "[encoded data removed]",
      "text/plain": [
       "<Figure size 432x288 with 1 Axes>"
      ]
     },
     "metadata": {
      "needs_background": "light"
     },
     "output_type": "display_data"
    }
   ],
   "source": [
    "# visualization after cubic interpolation\n",
    "sns.scatterplot(x=x_new,y=y_interpt)\n",
    "plt.title(\"With cubic interpolation\")\n",
    "plt.show()"
   ]
  },
  {
   "cell_type": "markdown",
   "id": "62af2d82",
   "metadata": {},
   "source": [
    "## 3. Polynomial Interpolation"
   ]
  },
  {
   "cell_type": "code",
   "execution_count": 17,
   "id": "55f99184",
   "metadata": {},
   "outputs": [],
   "source": [
    "# create sample array\n",
    "x = np.array([1,2,3,4,5])\n",
    "y = np.array([1,4,9,16,25])"
   ]
  },
  {
   "cell_type": "code",
   "execution_count": 18,
   "id": "96350b8f",
   "metadata": {},
   "outputs": [],
   "source": [
    "p = np.polyfit(x,y,2)"
   ]
  },
  {
   "cell_type": "code",
   "execution_count": 19,
   "id": "035fc958",
   "metadata": {},
   "outputs": [],
   "source": [
    "x_new = np.linspace(1,5,10)\n",
    "y_interpt = np.polyval(p,x_new)"
   ]
  },
  {
   "cell_type": "code",
   "execution_count": 21,
   "id": "bbbc0971",
   "metadata": {},
   "outputs": [
    {
     "data": {
      "image/png": "[encoded data removed]",
      "text/plain": [
       "<Figure size 432x288 with 1 Axes>"
      ]
     },
     "metadata": {
      "needs_background": "light"
     },
     "output_type": "display_data"
    }
   ],
   "source": [
    "# visualization after polynomial interpolation\n",
    "sns.scatterplot(x=x_new,y=y_interpt)\n",
    "plt.title(\"With polynomial interpolation\")\n",
    "plt.show()"
   ]
  }
 ],
 "metadata": {
  "kernelspec": {
   "display_name": "Python 3 (ipykernel)",
   "language": "python",
   "name": "python3"
  },
  "language_info": {
   "codemirror_mode": {
    "name": "ipython",
    "version": 3
   },
   "file_extension": ".py",
   "mimetype": "text/x-python",
   "name": "python",
   "nbconvert_exporter": "python",
   "pygments_lexer": "ipython3",
   "version": "3.9.12"
  }
 },
 "nbformat": 4,
 "nbformat_minor": 5
}
