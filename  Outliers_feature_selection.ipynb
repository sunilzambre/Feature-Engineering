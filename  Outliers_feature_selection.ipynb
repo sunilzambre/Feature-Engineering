{
 "cells": [
  {
   "cell_type": "markdown",
   "id": "8baf4490",
   "metadata": {},
   "source": [
    "### Outlier detection, feature selection, standard scaling, and hyperparameter tuning are all important steps in the classification process."
   ]
  },
  {
   "cell_type": "code",
   "execution_count": 1,
   "id": "c0d264ea",
   "metadata": {},
   "outputs": [],
   "source": [
    "import numpy as np\n",
    "import pandas as pd\n",
    "import matplotlib.pyplot as plt\n",
    "import seaborn as sns\n",
    "import warnings\n",
    "\n",
    "# To ignore all warnings\n",
    "warnings.filterwarnings(\"ignore\")"
   ]
  },
  {
   "cell_type": "code",
   "execution_count": 2,
   "id": "f38cc4ab",
   "metadata": {},
   "outputs": [
    {
     "data": {
      "text/html": [
       "<div>\n",
       "<style scoped>\n",
       "    .dataframe tbody tr th:only-of-type {\n",
       "        vertical-align: middle;\n",
       "    }\n",
       "\n",
       "    .dataframe tbody tr th {\n",
       "        vertical-align: top;\n",
       "    }\n",
       "\n",
       "    .dataframe thead th {\n",
       "        text-align: right;\n",
       "    }\n",
       "</style>\n",
       "<table border=\"1\" class=\"dataframe\">\n",
       "  <thead>\n",
       "    <tr style=\"text-align: right;\">\n",
       "      <th></th>\n",
       "      <th>User ID</th>\n",
       "      <th>Gender</th>\n",
       "      <th>Age</th>\n",
       "      <th>EstimatedSalary</th>\n",
       "      <th>Purchased</th>\n",
       "    </tr>\n",
       "  </thead>\n",
       "  <tbody>\n",
       "    <tr>\n",
       "      <th>0</th>\n",
       "      <td>15624510</td>\n",
       "      <td>Male</td>\n",
       "      <td>19</td>\n",
       "      <td>19000</td>\n",
       "      <td>0</td>\n",
       "    </tr>\n",
       "    <tr>\n",
       "      <th>1</th>\n",
       "      <td>15810944</td>\n",
       "      <td>Male</td>\n",
       "      <td>35</td>\n",
       "      <td>20000</td>\n",
       "      <td>0</td>\n",
       "    </tr>\n",
       "    <tr>\n",
       "      <th>2</th>\n",
       "      <td>15668575</td>\n",
       "      <td>Female</td>\n",
       "      <td>26</td>\n",
       "      <td>43000</td>\n",
       "      <td>0</td>\n",
       "    </tr>\n",
       "    <tr>\n",
       "      <th>3</th>\n",
       "      <td>15603246</td>\n",
       "      <td>Female</td>\n",
       "      <td>27</td>\n",
       "      <td>57000</td>\n",
       "      <td>0</td>\n",
       "    </tr>\n",
       "    <tr>\n",
       "      <th>4</th>\n",
       "      <td>15804002</td>\n",
       "      <td>Male</td>\n",
       "      <td>19</td>\n",
       "      <td>76000</td>\n",
       "      <td>0</td>\n",
       "    </tr>\n",
       "  </tbody>\n",
       "</table>\n",
       "</div>"
      ],
      "text/plain": [
       "    User ID  Gender  Age  EstimatedSalary  Purchased\n",
       "0  15624510    Male   19            19000          0\n",
       "1  15810944    Male   35            20000          0\n",
       "2  15668575  Female   26            43000          0\n",
       "3  15603246  Female   27            57000          0\n",
       "4  15804002    Male   19            76000          0"
      ]
     },
     "execution_count": 2,
     "metadata": {},
     "output_type": "execute_result"
    }
   ],
   "source": [
    "data=pd.read_csv(\"Social_Network_Ads.csv\")\n",
    "\n",
    "data.head()"
   ]
  },
  {
   "cell_type": "code",
   "execution_count": 3,
   "id": "ae46a399",
   "metadata": {},
   "outputs": [
    {
     "data": {
      "text/plain": [
       "(array([28., 37., 46., 35., 77., 65., 35., 31., 18., 28.]),\n",
       " array([18. , 22.2, 26.4, 30.6, 34.8, 39. , 43.2, 47.4, 51.6, 55.8, 60. ]),\n",
       " <BarContainer object of 10 artists>)"
      ]
     },
     "execution_count": 3,
     "metadata": {},
     "output_type": "execute_result"
    },
    {
     "data": {
      "image/png": "[encoded data removed]",
      "text/plain": [
       "<Figure size 432x288 with 1 Axes>"
      ]
     },
     "metadata": {
      "needs_background": "light"
     },
     "output_type": "display_data"
    }
   ],
   "source": [
    "plt.hist(data['Age'])"
   ]
  },
  {
   "cell_type": "markdown",
   "id": "abd063d9",
   "metadata": {},
   "source": [
    "## Outlier"
   ]
  },
  {
   "cell_type": "code",
   "execution_count": 4,
   "id": "59916ec1",
   "metadata": {},
   "outputs": [
    {
     "data": {
      "text/plain": [
       "<AxesSubplot:ylabel='Age'>"
      ]
     },
     "execution_count": 4,
     "metadata": {},
     "output_type": "execute_result"
    },
    {
     "data": {
      "image/png": "[encoded data removed]",
      "text/plain": [
       "<Figure size 432x288 with 1 Axes>"
      ]
     },
     "metadata": {
      "needs_background": "light"
     },
     "output_type": "display_data"
    }
   ],
   "source": [
    "#plt.scatter(data.index,data['Age'])\n",
    "sns.scatterplot(data.index,data['Age'])"
   ]
  },
  {
   "cell_type": "code",
   "execution_count": 5,
   "id": "a8eec60b",
   "metadata": {},
   "outputs": [
    {
     "data": {
      "text/plain": [
       "<AxesSubplot:xlabel='Age'>"
      ]
     },
     "execution_count": 5,
     "metadata": {},
     "output_type": "execute_result"
    },
    {
     "data": {
      "image/png": "[encoded data removed]",
      "text/plain": [
       "<Figure size 432x288 with 1 Axes>"
      ]
     },
     "metadata": {
      "needs_background": "light"
     },
     "output_type": "display_data"
    }
   ],
   "source": [
    "sns.boxplot(data['Age'])"
   ]
  },
  {
   "cell_type": "code",
   "execution_count": 6,
   "id": "7afcae93",
   "metadata": {},
   "outputs": [
    {
     "data": {
      "text/plain": [
       "count    400.000000\n",
       "mean      37.655000\n",
       "std       10.482877\n",
       "min       18.000000\n",
       "25%       29.750000\n",
       "50%       37.000000\n",
       "75%       46.000000\n",
       "max       60.000000\n",
       "Name: Age, dtype: float64"
      ]
     },
     "execution_count": 6,
     "metadata": {},
     "output_type": "execute_result"
    }
   ],
   "source": [
    "data['Age'].describe()"
   ]
  },
  {
   "cell_type": "markdown",
   "id": "23b8aba0",
   "metadata": {},
   "source": [
    "# IQR"
   ]
  },
  {
   "cell_type": "code",
   "execution_count": 7,
   "id": "527305f4",
   "metadata": {},
   "outputs": [
    {
     "name": "stdout",
     "output_type": "stream",
     "text": [
      "29.75 46.0\n"
     ]
    }
   ],
   "source": [
    "q1,q3=np.percentile(data['Age'],[25,75])\n",
    "print(q1,q3)"
   ]
  },
  {
   "cell_type": "code",
   "execution_count": 8,
   "id": "93f36341",
   "metadata": {},
   "outputs": [],
   "source": [
    "iqr= q3 - q1"
   ]
  },
  {
   "cell_type": "code",
   "execution_count": 9,
   "id": "ba453723",
   "metadata": {},
   "outputs": [
    {
     "name": "stdout",
     "output_type": "stream",
     "text": [
      "5.375 70.375\n"
     ]
    }
   ],
   "source": [
    "lb = q1 - (1.5 * iqr)\n",
    "ub = q3 + (1.5 * iqr)\n",
    "print(lb,ub)"
   ]
  },
  {
   "cell_type": "code",
   "execution_count": 10,
   "id": "b3cd9092",
   "metadata": {},
   "outputs": [
    {
     "data": {
      "text/plain": [
       "(400, 5)"
      ]
     },
     "execution_count": 10,
     "metadata": {},
     "output_type": "execute_result"
    }
   ],
   "source": [
    "data.shape"
   ]
  },
  {
   "cell_type": "code",
   "execution_count": 11,
   "id": "8ddf6d69",
   "metadata": {},
   "outputs": [],
   "source": [
    "data = data.loc[data['Age'] > lb][data['Age'] < ub]"
   ]
  },
  {
   "cell_type": "markdown",
   "id": "fa532957",
   "metadata": {},
   "source": [
    "# z-score method"
   ]
  },
  {
   "cell_type": "code",
   "execution_count": 12,
   "id": "28ca3ba5",
   "metadata": {},
   "outputs": [
    {
     "data": {
      "text/plain": [
       "(array([28., 37., 46., 35., 77., 65., 35., 31., 18., 28.]),\n",
       " array([18. , 22.2, 26.4, 30.6, 34.8, 39. , 43.2, 47.4, 51.6, 55.8, 60. ]),\n",
       " <BarContainer object of 10 artists>)"
      ]
     },
     "execution_count": 12,
     "metadata": {},
     "output_type": "execute_result"
    },
    {
     "data": {
      "image/png": "[encoded data removed]",
      "text/plain": [
       "<Figure size 432x288 with 1 Axes>"
      ]
     },
     "metadata": {
      "needs_background": "light"
     },
     "output_type": "display_data"
    }
   ],
   "source": [
    "plt.hist(data['Age'])"
   ]
  },
  {
   "cell_type": "markdown",
   "id": "8b85c46e",
   "metadata": {},
   "source": [
    "## z = x - mean / SD"
   ]
  },
  {
   "cell_type": "code",
   "execution_count": 13,
   "id": "6063b2de",
   "metadata": {},
   "outputs": [],
   "source": [
    "out = []  # Store the outliers\n",
    "def outliers(data):\n",
    "    threshold = 3  # Indicates 3 standard deviations (SD)\n",
    "    mean = np.mean(data)  # Calculating the mean\n",
    "    std = np.std(data)  # Calculating the standard deviation\n",
    "    \n",
    "    for i in data:  # Looping through all data points\n",
    "        z_score = (i - mean) / std  # Calculate the z-score\n",
    "        if np.abs(z_score) > threshold:  # Checking if it falls outside 3 SD\n",
    "            out.append(i)  # Add the outliers to the list\n",
    "    return out"
   ]
  },
  {
   "cell_type": "code",
   "execution_count": 14,
   "id": "b5ba5e29",
   "metadata": {},
   "outputs": [],
   "source": [
    "out =outliers(data['Age'])"
   ]
  },
  {
   "cell_type": "code",
   "execution_count": 15,
   "id": "d70871d3",
   "metadata": {},
   "outputs": [
    {
     "data": {
      "text/plain": [
       "[]"
      ]
     },
     "execution_count": 15,
     "metadata": {},
     "output_type": "execute_result"
    }
   ],
   "source": [
    "out"
   ]
  },
  {
   "cell_type": "code",
   "execution_count": 16,
   "id": "a53dc2a4",
   "metadata": {},
   "outputs": [
    {
     "data": {
      "text/plain": [
       "(400, 5)"
      ]
     },
     "execution_count": 16,
     "metadata": {},
     "output_type": "execute_result"
    }
   ],
   "source": [
    "data.shape"
   ]
  },
  {
   "cell_type": "code",
   "execution_count": 17,
   "id": "77fe98f0",
   "metadata": {},
   "outputs": [
    {
     "data": {
      "text/html": [
       "<div>\n",
       "<style scoped>\n",
       "    .dataframe tbody tr th:only-of-type {\n",
       "        vertical-align: middle;\n",
       "    }\n",
       "\n",
       "    .dataframe tbody tr th {\n",
       "        vertical-align: top;\n",
       "    }\n",
       "\n",
       "    .dataframe thead th {\n",
       "        text-align: right;\n",
       "    }\n",
       "</style>\n",
       "<table border=\"1\" class=\"dataframe\">\n",
       "  <thead>\n",
       "    <tr style=\"text-align: right;\">\n",
       "      <th></th>\n",
       "      <th>User ID</th>\n",
       "      <th>Gender</th>\n",
       "      <th>Age</th>\n",
       "      <th>EstimatedSalary</th>\n",
       "      <th>Purchased</th>\n",
       "    </tr>\n",
       "  </thead>\n",
       "  <tbody>\n",
       "    <tr>\n",
       "      <th>0</th>\n",
       "      <td>15624510</td>\n",
       "      <td>Male</td>\n",
       "      <td>19</td>\n",
       "      <td>19000</td>\n",
       "      <td>0</td>\n",
       "    </tr>\n",
       "    <tr>\n",
       "      <th>1</th>\n",
       "      <td>15810944</td>\n",
       "      <td>Male</td>\n",
       "      <td>35</td>\n",
       "      <td>20000</td>\n",
       "      <td>0</td>\n",
       "    </tr>\n",
       "    <tr>\n",
       "      <th>2</th>\n",
       "      <td>15668575</td>\n",
       "      <td>Female</td>\n",
       "      <td>26</td>\n",
       "      <td>43000</td>\n",
       "      <td>0</td>\n",
       "    </tr>\n",
       "    <tr>\n",
       "      <th>3</th>\n",
       "      <td>15603246</td>\n",
       "      <td>Female</td>\n",
       "      <td>27</td>\n",
       "      <td>57000</td>\n",
       "      <td>0</td>\n",
       "    </tr>\n",
       "    <tr>\n",
       "      <th>4</th>\n",
       "      <td>15804002</td>\n",
       "      <td>Male</td>\n",
       "      <td>19</td>\n",
       "      <td>76000</td>\n",
       "      <td>0</td>\n",
       "    </tr>\n",
       "  </tbody>\n",
       "</table>\n",
       "</div>"
      ],
      "text/plain": [
       "    User ID  Gender  Age  EstimatedSalary  Purchased\n",
       "0  15624510    Male   19            19000          0\n",
       "1  15810944    Male   35            20000          0\n",
       "2  15668575  Female   26            43000          0\n",
       "3  15603246  Female   27            57000          0\n",
       "4  15804002    Male   19            76000          0"
      ]
     },
     "execution_count": 17,
     "metadata": {},
     "output_type": "execute_result"
    }
   ],
   "source": [
    "data.head()"
   ]
  },
  {
   "cell_type": "code",
   "execution_count": 18,
   "id": "d123be4b",
   "metadata": {},
   "outputs": [],
   "source": [
    "from sklearn.preprocessing import LabelEncoder\n",
    "le = LabelEncoder()\n",
    "data['Gender'] = le.fit_transform(data['Gender'])"
   ]
  },
  {
   "cell_type": "code",
   "execution_count": 19,
   "id": "0e690563",
   "metadata": {},
   "outputs": [],
   "source": [
    "x=data.iloc[:,[1,2,3]]\n",
    "y=data.iloc[:,[4]]"
   ]
  },
  {
   "cell_type": "code",
   "execution_count": 20,
   "id": "0bc5a7da",
   "metadata": {},
   "outputs": [
    {
     "name": "stdout",
     "output_type": "stream",
     "text": [
      "(320, 3)\n",
      "(320, 1)\n",
      "(80, 3)\n",
      "(80, 1)\n"
     ]
    }
   ],
   "source": [
    "from sklearn.model_selection import train_test_split\n",
    "x_train,x_test,y_train,y_test=train_test_split(x,y,test_size=0.2,random_state=0)\n",
    "print(x_train.shape)\n",
    "print(y_train.shape)\n",
    "print(x_test.shape)\n",
    "print(y_test.shape)"
   ]
  },
  {
   "cell_type": "markdown",
   "id": "d737039b",
   "metadata": {},
   "source": [
    "## feature selection in classification"
   ]
  },
  {
   "cell_type": "code",
   "execution_count": 21,
   "id": "7e5d0192",
   "metadata": {},
   "outputs": [
    {
     "data": {
      "text/plain": [
       "array([0.04627361, 0.24587423, 0.200597  ])"
      ]
     },
     "execution_count": 21,
     "metadata": {},
     "output_type": "execute_result"
    }
   ],
   "source": [
    "from sklearn.feature_selection import mutual_info_classif, mutual_info_regression\n",
    "\n",
    "mi = mutual_info_classif(x_train,y_train)\n",
    "mi"
   ]
  },
  {
   "cell_type": "code",
   "execution_count": 22,
   "id": "c3451983",
   "metadata": {},
   "outputs": [
    {
     "data": {
      "text/plain": [
       "Age                0.245874\n",
       "EstimatedSalary    0.200597\n",
       "Gender             0.046274\n",
       "dtype: float64"
      ]
     },
     "execution_count": 22,
     "metadata": {},
     "output_type": "execute_result"
    }
   ],
   "source": [
    "MI = pd.Series(mi)\n",
    "MI.index = x_train.columns\n",
    "MI.sort_values(ascending=False)"
   ]
  },
  {
   "cell_type": "code",
   "execution_count": 23,
   "id": "15801312",
   "metadata": {},
   "outputs": [
    {
     "data": {
      "text/plain": [
       "<AxesSubplot:xlabel='Purchased', ylabel='Age'>"
      ]
     },
     "execution_count": 23,
     "metadata": {},
     "output_type": "execute_result"
    },
    {
     "data": {
      "image/png": "[encoded data removed]",
      "text/plain": [
       "<Figure size 432x288 with 1 Axes>"
      ]
     },
     "metadata": {
      "needs_background": "light"
     },
     "output_type": "display_data"
    }
   ],
   "source": [
    "sns.boxplot(data['Purchased'],data['Age'])"
   ]
  },
  {
   "cell_type": "code",
   "execution_count": 24,
   "id": "7c646b0c",
   "metadata": {},
   "outputs": [
    {
     "data": {
      "text/plain": [
       "<AxesSubplot:ylabel='EstimatedSalary'>"
      ]
     },
     "execution_count": 24,
     "metadata": {},
     "output_type": "execute_result"
    },
    {
     "data": {
      "image/png": "[encoded data removed]",
      "text/plain": [
       "<Figure size 432x288 with 1 Axes>"
      ]
     },
     "metadata": {
      "needs_background": "light"
     },
     "output_type": "display_data"
    }
   ],
   "source": [
    "sns.scatterplot(data.index,data['EstimatedSalary'],hue=data['Purchased'])"
   ]
  },
  {
   "cell_type": "code",
   "execution_count": 25,
   "id": "d848bba4",
   "metadata": {},
   "outputs": [
    {
     "data": {
      "text/plain": [
       "<AxesSubplot:xlabel='Purchased', ylabel='count'>"
      ]
     },
     "execution_count": 25,
     "metadata": {},
     "output_type": "execute_result"
    },
    {
     "data": {
      "image/png": "[encoded data removed]",
      "text/plain": [
       "<Figure size 432x288 with 1 Axes>"
      ]
     },
     "metadata": {
      "needs_background": "light"
     },
     "output_type": "display_data"
    }
   ],
   "source": [
    "sns.countplot(data['Purchased'],hue=data['Gender'])"
   ]
  },
  {
   "cell_type": "markdown",
   "id": "6d011008",
   "metadata": {},
   "source": [
    "## Groupby"
   ]
  },
  {
   "cell_type": "code",
   "execution_count": 26,
   "id": "417b035f",
   "metadata": {},
   "outputs": [
    {
     "data": {
      "text/html": [
       "<div>\n",
       "<style scoped>\n",
       "    .dataframe tbody tr th:only-of-type {\n",
       "        vertical-align: middle;\n",
       "    }\n",
       "\n",
       "    .dataframe tbody tr th {\n",
       "        vertical-align: top;\n",
       "    }\n",
       "\n",
       "    .dataframe thead th {\n",
       "        text-align: right;\n",
       "    }\n",
       "</style>\n",
       "<table border=\"1\" class=\"dataframe\">\n",
       "  <thead>\n",
       "    <tr style=\"text-align: right;\">\n",
       "      <th></th>\n",
       "      <th>Purchased</th>\n",
       "    </tr>\n",
       "    <tr>\n",
       "      <th>Gender</th>\n",
       "      <th></th>\n",
       "    </tr>\n",
       "  </thead>\n",
       "  <tbody>\n",
       "    <tr>\n",
       "      <th>0</th>\n",
       "      <td>0.377451</td>\n",
       "    </tr>\n",
       "    <tr>\n",
       "      <th>1</th>\n",
       "      <td>0.336735</td>\n",
       "    </tr>\n",
       "  </tbody>\n",
       "</table>\n",
       "</div>"
      ],
      "text/plain": [
       "        Purchased\n",
       "Gender           \n",
       "0        0.377451\n",
       "1        0.336735"
      ]
     },
     "execution_count": 26,
     "metadata": {},
     "output_type": "execute_result"
    }
   ],
   "source": [
    "data[['Gender','Purchased']].groupby('Gender').mean()"
   ]
  },
  {
   "cell_type": "markdown",
   "id": "d94a6aa8",
   "metadata": {},
   "source": [
    "## Feature scaling"
   ]
  },
  {
   "cell_type": "code",
   "execution_count": 27,
   "id": "992f7cf9",
   "metadata": {},
   "outputs": [
    {
     "data": {
      "text/html": [
       "<div>\n",
       "<style scoped>\n",
       "    .dataframe tbody tr th:only-of-type {\n",
       "        vertical-align: middle;\n",
       "    }\n",
       "\n",
       "    .dataframe tbody tr th {\n",
       "        vertical-align: top;\n",
       "    }\n",
       "\n",
       "    .dataframe thead th {\n",
       "        text-align: right;\n",
       "    }\n",
       "</style>\n",
       "<table border=\"1\" class=\"dataframe\">\n",
       "  <thead>\n",
       "    <tr style=\"text-align: right;\">\n",
       "      <th></th>\n",
       "      <th>Gender</th>\n",
       "      <th>Age</th>\n",
       "      <th>EstimatedSalary</th>\n",
       "    </tr>\n",
       "  </thead>\n",
       "  <tbody>\n",
       "    <tr>\n",
       "      <th>336</th>\n",
       "      <td>1</td>\n",
       "      <td>58</td>\n",
       "      <td>144000</td>\n",
       "    </tr>\n",
       "    <tr>\n",
       "      <th>64</th>\n",
       "      <td>0</td>\n",
       "      <td>59</td>\n",
       "      <td>83000</td>\n",
       "    </tr>\n",
       "    <tr>\n",
       "      <th>55</th>\n",
       "      <td>0</td>\n",
       "      <td>24</td>\n",
       "      <td>55000</td>\n",
       "    </tr>\n",
       "    <tr>\n",
       "      <th>106</th>\n",
       "      <td>0</td>\n",
       "      <td>26</td>\n",
       "      <td>35000</td>\n",
       "    </tr>\n",
       "    <tr>\n",
       "      <th>300</th>\n",
       "      <td>0</td>\n",
       "      <td>58</td>\n",
       "      <td>38000</td>\n",
       "    </tr>\n",
       "  </tbody>\n",
       "</table>\n",
       "</div>"
      ],
      "text/plain": [
       "     Gender  Age  EstimatedSalary\n",
       "336       1   58           144000\n",
       "64        0   59            83000\n",
       "55        0   24            55000\n",
       "106       0   26            35000\n",
       "300       0   58            38000"
      ]
     },
     "execution_count": 27,
     "metadata": {},
     "output_type": "execute_result"
    }
   ],
   "source": [
    "x_train.head()"
   ]
  },
  {
   "cell_type": "code",
   "execution_count": 28,
   "id": "f2da29ae",
   "metadata": {},
   "outputs": [
    {
     "data": {
      "text/plain": [
       "array([[1.        , 0.95238095, 0.95555556],\n",
       "       [0.        , 0.97619048, 0.5037037 ],\n",
       "       [0.        , 0.14285714, 0.2962963 ],\n",
       "       [0.        , 0.19047619, 0.14814815],\n",
       "       [0.        , 0.95238095, 0.17037037],\n",
       "       [0.        , 0.57142857, 0.48148148],\n",
       "       [0.        , 0.52380952, 0.44444444],\n",
       "       [1.        , 0.97619048, 0.85185185],\n",
       "       [0.        , 0.66666667, 0.19259259],\n",
       "       [0.        , 0.54761905, 0.33333333],\n",
       "       [1.        , 0.57142857, 0.36296296],\n",
       "       [0.        , 0.45238095, 0.97037037],\n",
       "       [0.        , 0.11904762, 0.24444444],\n",
       "       [1.        , 0.16666667, 0.13333333],\n",
       "       [1.        , 0.14285714, 0.51111111],\n",
       "       [0.        , 0.21428571, 0.6       ],\n",
       "       [1.        , 0.11904762, 0.35555556],\n",
       "       [1.        , 0.71428571, 0.13333333],\n",
       "       [1.        , 0.71428571, 0.55555556],\n",
       "       [1.        , 0.57142857, 0.65925926],\n",
       "       [0.        , 0.61904762, 0.17777778],\n",
       "       [1.        , 0.33333333, 0.77777778],\n",
       "       [0.        , 0.47619048, 0.25925926],\n",
       "       [0.        , 0.33333333, 0.88888889],\n",
       "       [0.        , 0.80952381, 0.04444444],\n",
       "       [0.        , 0.83333333, 0.65925926],\n",
       "       [1.        , 0.5       , 0.2       ],\n",
       "       [1.        , 0.47619048, 0.34074074],\n",
       "       [0.        , 0.42857143, 0.25925926],\n",
       "       [0.        , 0.42857143, 0.35555556],\n",
       "       [0.        , 0.4047619 , 0.07407407],\n",
       "       [1.        , 0.4047619 , 0.25925926],\n",
       "       [1.        , 0.57142857, 0.42962963],\n",
       "       [0.        , 0.69047619, 0.25185185],\n",
       "       [0.        , 0.97619048, 0.1037037 ],\n",
       "       [1.        , 0.73809524, 0.37037037],\n",
       "       [0.        , 0.64285714, 0.85925926],\n",
       "       [0.        , 0.30952381, 0.54814815],\n",
       "       [0.        , 0.66666667, 0.4962963 ],\n",
       "       [0.        , 0.69047619, 0.26666667],\n",
       "       [1.        , 0.19047619, 0.        ],\n",
       "       [1.        , 1.        , 0.64444444],\n",
       "       [0.        , 0.47619048, 0.71851852],\n",
       "       [1.        , 0.52380952, 0.68148148],\n",
       "       [0.        , 0.57142857, 0.28148148],\n",
       "       [1.        , 0.4047619 , 0.32592593],\n",
       "       [1.        , 0.71428571, 0.19259259],\n",
       "       [0.        , 0.71428571, 0.88148148],\n",
       "       [0.        , 0.47619048, 0.72592593],\n",
       "       [1.        , 0.26190476, 0.98518519],\n",
       "       [0.        , 0.19047619, 0.        ],\n",
       "       [1.        , 1.        , 0.2       ],\n",
       "       [1.        , 0.14285714, 0.02962963],\n",
       "       [1.        , 0.57142857, 0.99259259],\n",
       "       [0.        , 0.66666667, 0.6       ],\n",
       "       [1.        , 0.23809524, 0.32592593],\n",
       "       [1.        , 0.5       , 0.6       ],\n",
       "       [1.        , 0.23809524, 0.54814815],\n",
       "       [1.        , 0.54761905, 0.42222222],\n",
       "       [1.        , 0.64285714, 0.08148148],\n",
       "       [0.        , 0.35714286, 0.4       ],\n",
       "       [0.        , 0.04761905, 0.4962963 ],\n",
       "       [1.        , 0.30952381, 0.43703704],\n",
       "       [1.        , 0.57142857, 0.48148148],\n",
       "       [0.        , 0.4047619 , 0.42222222],\n",
       "       [0.        , 0.35714286, 0.99259259],\n",
       "       [1.        , 0.52380952, 0.41481481],\n",
       "       [0.        , 0.78571429, 0.97037037],\n",
       "       [1.        , 0.66666667, 0.47407407],\n",
       "       [1.        , 0.4047619 , 0.44444444],\n",
       "       [1.        , 0.47619048, 0.26666667],\n",
       "       [0.        , 0.42857143, 0.44444444],\n",
       "       [0.        , 0.45238095, 0.46666667],\n",
       "       [1.        , 0.47619048, 0.34074074],\n",
       "       [0.        , 1.        , 0.68888889],\n",
       "       [0.        , 0.04761905, 0.4962963 ],\n",
       "       [1.        , 0.92857143, 0.43703704],\n",
       "       [1.        , 0.57142857, 0.37037037],\n",
       "       [1.        , 0.19047619, 0.48148148],\n",
       "       [1.        , 0.66666667, 0.75555556],\n",
       "       [1.        , 0.4047619 , 0.34074074],\n",
       "       [0.        , 0.07142857, 0.39259259],\n",
       "       [0.        , 0.23809524, 0.21481481],\n",
       "       [1.        , 0.54761905, 0.53333333],\n",
       "       [0.        , 0.45238095, 0.13333333],\n",
       "       [1.        , 0.21428571, 0.55555556],\n",
       "       [1.        , 0.5       , 0.2       ],\n",
       "       [1.        , 0.23809524, 0.8       ],\n",
       "       [0.        , 0.30952381, 0.76296296],\n",
       "       [1.        , 0.16666667, 0.53333333],\n",
       "       [0.        , 0.4047619 , 0.41481481],\n",
       "       [1.        , 0.45238095, 0.40740741],\n",
       "       [1.        , 0.4047619 , 0.17777778],\n",
       "       [1.        , 0.69047619, 0.05925926],\n",
       "       [0.        , 0.4047619 , 0.97777778],\n",
       "       [0.        , 0.71428571, 0.91111111],\n",
       "       [1.        , 0.19047619, 0.52592593],\n",
       "       [1.        , 0.16666667, 0.47407407],\n",
       "       [0.        , 0.80952381, 0.91111111],\n",
       "       [1.        , 0.78571429, 0.05925926],\n",
       "       [0.        , 0.4047619 , 0.33333333],\n",
       "       [0.        , 0.35714286, 0.72592593],\n",
       "       [1.        , 0.28571429, 0.68148148],\n",
       "       [1.        , 0.71428571, 0.13333333],\n",
       "       [0.        , 0.54761905, 0.48148148],\n",
       "       [0.        , 0.71428571, 0.6       ],\n",
       "       [1.        , 0.30952381, 0.02222222],\n",
       "       [0.        , 0.30952381, 0.41481481],\n",
       "       [1.        , 0.5952381 , 0.84444444],\n",
       "       [0.        , 0.97619048, 0.45185185],\n",
       "       [0.        , 0.        , 0.21481481],\n",
       "       [1.        , 0.42857143, 0.76296296],\n",
       "       [0.        , 0.57142857, 0.55555556],\n",
       "       [0.        , 0.69047619, 0.11111111],\n",
       "       [0.        , 0.19047619, 0.20740741],\n",
       "       [1.        , 0.52380952, 0.46666667],\n",
       "       [1.        , 0.66666667, 0.32592593],\n",
       "       [0.        , 0.97619048, 0.2       ],\n",
       "       [0.        , 0.66666667, 0.43703704],\n",
       "       [1.        , 0.4047619 , 0.56296296],\n",
       "       [0.        , 0.23809524, 0.32592593],\n",
       "       [1.        , 0.52380952, 0.31111111],\n",
       "       [1.        , 0.97619048, 0.94814815],\n",
       "       [0.        , 0.92857143, 0.08148148],\n",
       "       [0.        , 0.80952381, 0.17037037],\n",
       "       [0.        , 0.69047619, 0.72592593],\n",
       "       [0.        , 0.83333333, 0.94814815],\n",
       "       [1.        , 0.4047619 , 0.08888889],\n",
       "       [0.        , 0.95238095, 0.63703704],\n",
       "       [0.        , 0.64285714, 0.22222222],\n",
       "       [0.        , 0.11904762, 0.4962963 ],\n",
       "       [1.        , 0.66666667, 0.05925926],\n",
       "       [1.        , 0.57142857, 0.37037037],\n",
       "       [0.        , 0.23809524, 0.51111111],\n",
       "       [1.        , 0.47619048, 0.32592593],\n",
       "       [0.        , 0.19047619, 0.51111111],\n",
       "       [0.        , 0.26190476, 0.0962963 ],\n",
       "       [0.        , 0.45238095, 0.41481481],\n",
       "       [0.        , 0.0952381 , 0.2962963 ],\n",
       "       [0.        , 0.71428571, 0.14814815],\n",
       "       [1.        , 0.73809524, 0.0962963 ],\n",
       "       [0.        , 0.47619048, 0.37037037],\n",
       "       [0.        , 0.21428571, 0.01481481],\n",
       "       [1.        , 0.66666667, 0.0962963 ],\n",
       "       [1.        , 0.71428571, 0.93333333],\n",
       "       [0.        , 0.19047619, 0.01481481],\n",
       "       [0.        , 0.4047619 , 0.60740741],\n",
       "       [0.        , 0.5       , 0.32592593],\n",
       "       [0.        , 0.14285714, 0.08888889],\n",
       "       [1.        , 0.33333333, 0.02222222],\n",
       "       [1.        , 0.66666667, 0.54074074],\n",
       "       [1.        , 0.4047619 , 0.31851852],\n",
       "       [1.        , 0.9047619 , 0.33333333],\n",
       "       [1.        , 0.69047619, 0.14074074],\n",
       "       [0.        , 0.52380952, 0.42222222],\n",
       "       [1.        , 0.33333333, 0.62962963],\n",
       "       [0.        , 0.02380952, 0.04444444],\n",
       "       [1.        , 0.16666667, 0.55555556],\n",
       "       [1.        , 0.4047619 , 0.54074074],\n",
       "       [1.        , 0.23809524, 0.12592593],\n",
       "       [0.        , 0.76190476, 0.03703704],\n",
       "       [1.        , 0.52380952, 0.32592593],\n",
       "       [0.        , 0.76190476, 0.21481481],\n",
       "       [1.        , 0.4047619 , 0.42222222],\n",
       "       [0.        , 0.52380952, 0.94074074],\n",
       "       [0.        , 0.66666667, 0.12592593],\n",
       "       [0.        , 0.5       , 0.41481481],\n",
       "       [1.        , 0.04761905, 0.43703704],\n",
       "       [1.        , 0.26190476, 0.44444444],\n",
       "       [1.        , 0.30952381, 0.45185185],\n",
       "       [1.        , 0.69047619, 0.07407407],\n",
       "       [1.        , 0.52380952, 0.34074074],\n",
       "       [1.        , 0.38095238, 0.71851852],\n",
       "       [0.        , 0.47619048, 0.48148148],\n",
       "       [0.        , 0.57142857, 0.44444444],\n",
       "       [0.        , 0.69047619, 0.23703704],\n",
       "       [0.        , 0.5       , 0.44444444],\n",
       "       [1.        , 0.02380952, 0.07407407],\n",
       "       [0.        , 0.45238095, 0.48148148],\n",
       "       [1.        , 0.42857143, 0.33333333],\n",
       "       [1.        , 0.54761905, 0.27407407],\n",
       "       [1.        , 0.42857143, 0.81481481],\n",
       "       [0.        , 0.71428571, 0.1037037 ],\n",
       "       [0.        , 0.42857143, 0.82222222],\n",
       "       [0.        , 0.78571429, 0.88148148],\n",
       "       [0.        , 0.21428571, 0.31111111],\n",
       "       [1.        , 0.47619048, 0.41481481],\n",
       "       [0.        , 0.5       , 0.34074074],\n",
       "       [0.        , 0.0952381 , 0.08888889],\n",
       "       [0.        , 0.35714286, 0.33333333],\n",
       "       [1.        , 0.71428571, 0.43703704],\n",
       "       [0.        , 0.95238095, 0.05925926],\n",
       "       [1.        , 0.83333333, 0.42222222],\n",
       "       [0.        , 0.33333333, 0.75555556],\n",
       "       [1.        , 0.85714286, 0.40740741],\n",
       "       [1.        , 0.28571429, 0.48148148],\n",
       "       [0.        , 0.95238095, 0.59259259],\n",
       "       [0.        , 0.19047619, 0.27407407],\n",
       "       [1.        , 0.64285714, 0.47407407],\n",
       "       [1.        , 0.14285714, 0.2962963 ],\n",
       "       [1.        , 0.52380952, 0.44444444],\n",
       "       [0.        , 0.35714286, 0.0962963 ],\n",
       "       [0.        , 0.61904762, 0.91851852],\n",
       "       [1.        , 0.0952381 , 0.02222222],\n",
       "       [0.        , 0.35714286, 0.26666667],\n",
       "       [0.        , 0.5952381 , 0.87407407],\n",
       "       [0.        , 0.14285714, 0.12592593],\n",
       "       [0.        , 0.66666667, 0.05185185],\n",
       "       [1.        , 0.4047619 , 0.2962963 ],\n",
       "       [0.        , 0.85714286, 0.65925926],\n",
       "       [0.        , 0.71428571, 0.77037037],\n",
       "       [1.        , 0.4047619 , 0.28148148],\n",
       "       [1.        , 0.45238095, 0.95555556],\n",
       "       [0.        , 0.11904762, 0.37777778],\n",
       "       [0.        , 0.45238095, 0.9037037 ],\n",
       "       [1.        , 0.30952381, 0.31851852],\n",
       "       [0.        , 0.35714286, 0.19259259],\n",
       "       [0.        , 0.64285714, 0.05185185],\n",
       "       [1.        , 0.28571429, 0.        ],\n",
       "       [1.        , 0.02380952, 0.02962963],\n",
       "       [1.        , 0.73809524, 0.43703704],\n",
       "       [1.        , 0.5       , 0.79259259],\n",
       "       [1.        , 0.4047619 , 0.42962963],\n",
       "       [1.        , 0.5       , 0.41481481],\n",
       "       [1.        , 0.14285714, 0.05925926],\n",
       "       [0.        , 0.54761905, 0.42222222],\n",
       "       [0.        , 0.26190476, 0.5037037 ],\n",
       "       [0.        , 0.85714286, 0.08148148],\n",
       "       [0.        , 0.4047619 , 0.21481481],\n",
       "       [1.        , 0.45238095, 0.44444444],\n",
       "       [0.        , 0.26190476, 0.23703704],\n",
       "       [0.        , 0.30952381, 0.39259259],\n",
       "       [1.        , 0.57142857, 0.28888889],\n",
       "       [1.        , 0.28571429, 0.88888889],\n",
       "       [0.        , 0.80952381, 0.73333333],\n",
       "       [0.        , 0.76190476, 0.15555556],\n",
       "       [1.        , 0.9047619 , 0.87407407],\n",
       "       [1.        , 0.26190476, 0.34074074],\n",
       "       [1.        , 0.28571429, 0.54814815],\n",
       "       [1.        , 0.19047619, 0.00740741],\n",
       "       [1.        , 0.35714286, 0.11851852],\n",
       "       [0.        , 0.54761905, 0.42222222],\n",
       "       [1.        , 0.42857143, 0.13333333],\n",
       "       [0.        , 0.88095238, 0.81481481],\n",
       "       [0.        , 0.71428571, 0.85925926],\n",
       "       [0.        , 0.54761905, 0.41481481],\n",
       "       [0.        , 0.28571429, 0.34814815],\n",
       "       [1.        , 0.45238095, 0.42222222],\n",
       "       [0.        , 0.54761905, 0.35555556],\n",
       "       [0.        , 0.95238095, 0.23703704],\n",
       "       [0.        , 0.28571429, 0.74814815],\n",
       "       [1.        , 0.04761905, 0.25185185],\n",
       "       [1.        , 0.45238095, 0.43703704],\n",
       "       [1.        , 0.54761905, 0.32592593],\n",
       "       [1.        , 0.73809524, 0.54814815],\n",
       "       [1.        , 0.23809524, 0.47407407],\n",
       "       [0.        , 0.83333333, 0.4962963 ],\n",
       "       [1.        , 0.52380952, 0.31111111],\n",
       "       [1.        , 1.        , 0.14074074],\n",
       "       [1.        , 0.4047619 , 0.68888889],\n",
       "       [1.        , 0.07142857, 0.42222222],\n",
       "       [1.        , 0.47619048, 0.41481481],\n",
       "       [1.        , 0.5       , 0.67407407],\n",
       "       [0.        , 0.45238095, 0.31111111],\n",
       "       [0.        , 0.19047619, 0.42222222],\n",
       "       [0.        , 0.4047619 , 0.05925926],\n",
       "       [0.        , 0.85714286, 0.68888889],\n",
       "       [1.        , 0.28571429, 0.01481481],\n",
       "       [1.        , 0.5       , 0.88148148],\n",
       "       [1.        , 0.26190476, 0.20740741],\n",
       "       [1.        , 0.35714286, 0.20740741],\n",
       "       [1.        , 0.4047619 , 0.17037037],\n",
       "       [1.        , 0.54761905, 0.22222222],\n",
       "       [0.        , 0.54761905, 0.42222222],\n",
       "       [0.        , 0.5       , 0.88148148],\n",
       "       [0.        , 0.21428571, 0.9037037 ],\n",
       "       [0.        , 0.07142857, 0.00740741],\n",
       "       [1.        , 0.19047619, 0.12592593],\n",
       "       [1.        , 0.30952381, 0.37777778],\n",
       "       [0.        , 0.5       , 0.42962963],\n",
       "       [1.        , 0.54761905, 0.47407407],\n",
       "       [0.        , 0.69047619, 0.25925926],\n",
       "       [0.        , 0.54761905, 0.11111111],\n",
       "       [0.        , 0.45238095, 0.57777778],\n",
       "       [0.        , 1.        , 0.22962963],\n",
       "       [1.        , 0.16666667, 0.05185185],\n",
       "       [0.        , 0.23809524, 0.16296296],\n",
       "       [0.        , 0.47619048, 0.2962963 ],\n",
       "       [0.        , 0.42857143, 0.28888889],\n",
       "       [0.        , 0.04761905, 0.15555556],\n",
       "       [0.        , 0.9047619 , 0.65925926],\n",
       "       [1.        , 0.52380952, 0.31111111],\n",
       "       [0.        , 0.57142857, 0.68888889],\n",
       "       [0.        , 0.04761905, 0.05925926],\n",
       "       [1.        , 0.52380952, 0.37037037],\n",
       "       [1.        , 0.69047619, 0.03703704],\n",
       "       [0.        , 0.        , 0.52592593],\n",
       "       [1.        , 0.4047619 , 0.47407407],\n",
       "       [0.        , 0.92857143, 0.13333333],\n",
       "       [0.        , 0.38095238, 0.42222222],\n",
       "       [0.        , 0.73809524, 0.17777778],\n",
       "       [0.        , 0.21428571, 0.11851852],\n",
       "       [1.        , 0.02380952, 0.40740741],\n",
       "       [0.        , 0.5       , 0.47407407],\n",
       "       [1.        , 0.19047619, 0.48888889],\n",
       "       [1.        , 0.16666667, 0.48148148],\n",
       "       [0.        , 0.23809524, 0.51851852],\n",
       "       [1.        , 0.88095238, 0.17777778],\n",
       "       [0.        , 0.76190476, 0.54074074],\n",
       "       [1.        , 0.73809524, 0.54074074],\n",
       "       [1.        , 0.80952381, 1.        ],\n",
       "       [0.        , 0.4047619 , 0.37037037],\n",
       "       [1.        , 0.57142857, 0.28888889],\n",
       "       [1.        , 0.38095238, 0.20740741],\n",
       "       [1.        , 0.45238095, 0.27407407],\n",
       "       [0.        , 0.71428571, 0.11111111],\n",
       "       [1.        , 0.26190476, 0.20740741],\n",
       "       [1.        , 0.42857143, 0.27407407],\n",
       "       [0.        , 0.21428571, 0.28888889],\n",
       "       [0.        , 0.19047619, 0.76296296]])"
      ]
     },
     "execution_count": 28,
     "metadata": {},
     "output_type": "execute_result"
    }
   ],
   "source": [
    "from sklearn.preprocessing import StandardScaler,MinMaxScaler\n",
    "ss = StandardScaler()\n",
    "mms = MinMaxScaler()\n",
    "x_train = mms.fit_transform(x_train)\n",
    "x_test = mms.fit_transform(x_test)\n",
    "x_train"
   ]
  },
  {
   "cell_type": "code",
   "execution_count": 29,
   "id": "58474aab",
   "metadata": {},
   "outputs": [
    {
     "data": {
      "text/html": [
       "<style>#sk-container-id-1 {color: black;background-color: white;}#sk-container-id-1 pre{padding: 0;}#sk-container-id-1 div.sk-toggleable {background-color: white;}#sk-container-id-1 label.sk-toggleable__label {cursor: pointer;display: block;width: 100%;margin-bottom: 0;padding: 0.3em;box-sizing: border-box;text-align: center;}#sk-container-id-1 label.sk-toggleable__label-arrow:before {content: \"▸\";float: left;margin-right: 0.25em;color: #696969;}#sk-container-id-1 label.sk-toggleable__label-arrow:hover:before {color: black;}#sk-container-id-1 div.sk-estimator:hover label.sk-toggleable__label-arrow:before {color: black;}#sk-container-id-1 div.sk-toggleable__content {max-height: 0;max-width: 0;overflow: hidden;text-align: left;background-color: #f0f8ff;}#sk-container-id-1 div.sk-toggleable__content pre {margin: 0.2em;color: black;border-radius: 0.25em;background-color: #f0f8ff;}#sk-container-id-1 input.sk-toggleable__control:checked~div.sk-toggleable__content {max-height: 200px;max-width: 100%;overflow: auto;}#sk-container-id-1 input.sk-toggleable__control:checked~label.sk-toggleable__label-arrow:before {content: \"▾\";}#sk-container-id-1 div.sk-estimator input.sk-toggleable__control:checked~label.sk-toggleable__label {background-color: #d4ebff;}#sk-container-id-1 div.sk-label input.sk-toggleable__control:checked~label.sk-toggleable__label {background-color: #d4ebff;}#sk-container-id-1 input.sk-hidden--visually {border: 0;clip: rect(1px 1px 1px 1px);clip: rect(1px, 1px, 1px, 1px);height: 1px;margin: -1px;overflow: hidden;padding: 0;position: absolute;width: 1px;}#sk-container-id-1 div.sk-estimator {font-family: monospace;background-color: #f0f8ff;border: 1px dotted black;border-radius: 0.25em;box-sizing: border-box;margin-bottom: 0.5em;}#sk-container-id-1 div.sk-estimator:hover {background-color: #d4ebff;}#sk-container-id-1 div.sk-parallel-item::after {content: \"\";width: 100%;border-bottom: 1px solid gray;flex-grow: 1;}#sk-container-id-1 div.sk-label:hover label.sk-toggleable__label {background-color: #d4ebff;}#sk-container-id-1 div.sk-serial::before {content: \"\";position: absolute;border-left: 1px solid gray;box-sizing: border-box;top: 0;bottom: 0;left: 50%;z-index: 0;}#sk-container-id-1 div.sk-serial {display: flex;flex-direction: column;align-items: center;background-color: white;padding-right: 0.2em;padding-left: 0.2em;position: relative;}#sk-container-id-1 div.sk-item {position: relative;z-index: 1;}#sk-container-id-1 div.sk-parallel {display: flex;align-items: stretch;justify-content: center;background-color: white;position: relative;}#sk-container-id-1 div.sk-item::before, #sk-container-id-1 div.sk-parallel-item::before {content: \"\";position: absolute;border-left: 1px solid gray;box-sizing: border-box;top: 0;bottom: 0;left: 50%;z-index: -1;}#sk-container-id-1 div.sk-parallel-item {display: flex;flex-direction: column;z-index: 1;position: relative;background-color: white;}#sk-container-id-1 div.sk-parallel-item:first-child::after {align-self: flex-end;width: 50%;}#sk-container-id-1 div.sk-parallel-item:last-child::after {align-self: flex-start;width: 50%;}#sk-container-id-1 div.sk-parallel-item:only-child::after {width: 0;}#sk-container-id-1 div.sk-dashed-wrapped {border: 1px dashed gray;margin: 0 0.4em 0.5em 0.4em;box-sizing: border-box;padding-bottom: 0.4em;background-color: white;}#sk-container-id-1 div.sk-label label {font-family: monospace;font-weight: bold;display: inline-block;line-height: 1.2em;}#sk-container-id-1 div.sk-label-container {text-align: center;}#sk-container-id-1 div.sk-container {/* jupyter's `normalize.less` sets `[hidden] { display: none; }` but bootstrap.min.css set `[hidden] { display: none !important; }` so we also need the `!important` here to be able to override the default hidden behavior on the sphinx rendered scikit-learn.org. See: https://github.com/scikit-learn/scikit-learn/issues/21755 */display: inline-block !important;position: relative;}#sk-container-id-1 div.sk-text-repr-fallback {display: none;}</style><div id=\"sk-container-id-1\" class=\"sk-top-container\"><div class=\"sk-text-repr-fallback\"><pre>DecisionTreeClassifier()</pre><b>In a Jupyter environment, please rerun this cell to show the HTML representation or trust the notebook. <br />On GitHub, the HTML representation is unable to render, please try loading this page with nbviewer.org.</b></div><div class=\"sk-container\" hidden><div class=\"sk-item\"><div class=\"sk-estimator sk-toggleable\"><input class=\"sk-toggleable__control sk-hidden--visually\" id=\"sk-estimator-id-1\" type=\"checkbox\" checked><label for=\"sk-estimator-id-1\" class=\"sk-toggleable__label sk-toggleable__label-arrow\">DecisionTreeClassifier</label><div class=\"sk-toggleable__content\"><pre>DecisionTreeClassifier()</pre></div></div></div></div></div>"
      ],
      "text/plain": [
       "DecisionTreeClassifier()"
      ]
     },
     "execution_count": 29,
     "metadata": {},
     "output_type": "execute_result"
    }
   ],
   "source": [
    "from sklearn.tree import DecisionTreeClassifier\n",
    "dtc = DecisionTreeClassifier()\n",
    "dtc.fit(x_train,y_train)"
   ]
  },
  {
   "cell_type": "code",
   "execution_count": 30,
   "id": "5d92a095",
   "metadata": {},
   "outputs": [
    {
     "data": {
      "text/plain": [
       "0.9125"
      ]
     },
     "execution_count": 30,
     "metadata": {},
     "output_type": "execute_result"
    }
   ],
   "source": [
    "y_pred = dtc.predict(x_test)\n",
    "from sklearn.metrics import accuracy_score,confusion_matrix\n",
    "accuracy_score(y_pred,y_test)"
   ]
  },
  {
   "cell_type": "code",
   "execution_count": 31,
   "id": "6452ce04",
   "metadata": {},
   "outputs": [
    {
     "data": {
      "text/plain": [
       "array([[54,  3],\n",
       "       [ 4, 19]], dtype=int64)"
      ]
     },
     "execution_count": 31,
     "metadata": {},
     "output_type": "execute_result"
    }
   ],
   "source": [
    "confusion_matrix(y_pred,y_test)"
   ]
  },
  {
   "cell_type": "markdown",
   "id": "7a80cdb9",
   "metadata": {},
   "source": [
    "## Hyper parameter tunning"
   ]
  },
  {
   "cell_type": "code",
   "execution_count": 32,
   "id": "0bbac9c7",
   "metadata": {},
   "outputs": [
    {
     "data": {
      "text/html": [
       "<style>#sk-container-id-2 {color: black;background-color: white;}#sk-container-id-2 pre{padding: 0;}#sk-container-id-2 div.sk-toggleable {background-color: white;}#sk-container-id-2 label.sk-toggleable__label {cursor: pointer;display: block;width: 100%;margin-bottom: 0;padding: 0.3em;box-sizing: border-box;text-align: center;}#sk-container-id-2 label.sk-toggleable__label-arrow:before {content: \"▸\";float: left;margin-right: 0.25em;color: #696969;}#sk-container-id-2 label.sk-toggleable__label-arrow:hover:before {color: black;}#sk-container-id-2 div.sk-estimator:hover label.sk-toggleable__label-arrow:before {color: black;}#sk-container-id-2 div.sk-toggleable__content {max-height: 0;max-width: 0;overflow: hidden;text-align: left;background-color: #f0f8ff;}#sk-container-id-2 div.sk-toggleable__content pre {margin: 0.2em;color: black;border-radius: 0.25em;background-color: #f0f8ff;}#sk-container-id-2 input.sk-toggleable__control:checked~div.sk-toggleable__content {max-height: 200px;max-width: 100%;overflow: auto;}#sk-container-id-2 input.sk-toggleable__control:checked~label.sk-toggleable__label-arrow:before {content: \"▾\";}#sk-container-id-2 div.sk-estimator input.sk-toggleable__control:checked~label.sk-toggleable__label {background-color: #d4ebff;}#sk-container-id-2 div.sk-label input.sk-toggleable__control:checked~label.sk-toggleable__label {background-color: #d4ebff;}#sk-container-id-2 input.sk-hidden--visually {border: 0;clip: rect(1px 1px 1px 1px);clip: rect(1px, 1px, 1px, 1px);height: 1px;margin: -1px;overflow: hidden;padding: 0;position: absolute;width: 1px;}#sk-container-id-2 div.sk-estimator {font-family: monospace;background-color: #f0f8ff;border: 1px dotted black;border-radius: 0.25em;box-sizing: border-box;margin-bottom: 0.5em;}#sk-container-id-2 div.sk-estimator:hover {background-color: #d4ebff;}#sk-container-id-2 div.sk-parallel-item::after {content: \"\";width: 100%;border-bottom: 1px solid gray;flex-grow: 1;}#sk-container-id-2 div.sk-label:hover label.sk-toggleable__label {background-color: #d4ebff;}#sk-container-id-2 div.sk-serial::before {content: \"\";position: absolute;border-left: 1px solid gray;box-sizing: border-box;top: 0;bottom: 0;left: 50%;z-index: 0;}#sk-container-id-2 div.sk-serial {display: flex;flex-direction: column;align-items: center;background-color: white;padding-right: 0.2em;padding-left: 0.2em;position: relative;}#sk-container-id-2 div.sk-item {position: relative;z-index: 1;}#sk-container-id-2 div.sk-parallel {display: flex;align-items: stretch;justify-content: center;background-color: white;position: relative;}#sk-container-id-2 div.sk-item::before, #sk-container-id-2 div.sk-parallel-item::before {content: \"\";position: absolute;border-left: 1px solid gray;box-sizing: border-box;top: 0;bottom: 0;left: 50%;z-index: -1;}#sk-container-id-2 div.sk-parallel-item {display: flex;flex-direction: column;z-index: 1;position: relative;background-color: white;}#sk-container-id-2 div.sk-parallel-item:first-child::after {align-self: flex-end;width: 50%;}#sk-container-id-2 div.sk-parallel-item:last-child::after {align-self: flex-start;width: 50%;}#sk-container-id-2 div.sk-parallel-item:only-child::after {width: 0;}#sk-container-id-2 div.sk-dashed-wrapped {border: 1px dashed gray;margin: 0 0.4em 0.5em 0.4em;box-sizing: border-box;padding-bottom: 0.4em;background-color: white;}#sk-container-id-2 div.sk-label label {font-family: monospace;font-weight: bold;display: inline-block;line-height: 1.2em;}#sk-container-id-2 div.sk-label-container {text-align: center;}#sk-container-id-2 div.sk-container {/* jupyter's `normalize.less` sets `[hidden] { display: none; }` but bootstrap.min.css set `[hidden] { display: none !important; }` so we also need the `!important` here to be able to override the default hidden behavior on the sphinx rendered scikit-learn.org. See: https://github.com/scikit-learn/scikit-learn/issues/21755 */display: inline-block !important;position: relative;}#sk-container-id-2 div.sk-text-repr-fallback {display: none;}</style><div id=\"sk-container-id-2\" class=\"sk-top-container\"><div class=\"sk-text-repr-fallback\"><pre>GridSearchCV(cv=5, estimator=DecisionTreeClassifier(), n_jobs=-1,\n",
       "             param_grid={&#x27;criterion&#x27;: [&#x27;gini&#x27;, &#x27;entropy&#x27;],\n",
       "                         &#x27;max_depth&#x27;: [5, 6, 7]})</pre><b>In a Jupyter environment, please rerun this cell to show the HTML representation or trust the notebook. <br />On GitHub, the HTML representation is unable to render, please try loading this page with nbviewer.org.</b></div><div class=\"sk-container\" hidden><div class=\"sk-item sk-dashed-wrapped\"><div class=\"sk-label-container\"><div class=\"sk-label sk-toggleable\"><input class=\"sk-toggleable__control sk-hidden--visually\" id=\"sk-estimator-id-2\" type=\"checkbox\" ><label for=\"sk-estimator-id-2\" class=\"sk-toggleable__label sk-toggleable__label-arrow\">GridSearchCV</label><div class=\"sk-toggleable__content\"><pre>GridSearchCV(cv=5, estimator=DecisionTreeClassifier(), n_jobs=-1,\n",
       "             param_grid={&#x27;criterion&#x27;: [&#x27;gini&#x27;, &#x27;entropy&#x27;],\n",
       "                         &#x27;max_depth&#x27;: [5, 6, 7]})</pre></div></div></div><div class=\"sk-parallel\"><div class=\"sk-parallel-item\"><div class=\"sk-item\"><div class=\"sk-label-container\"><div class=\"sk-label sk-toggleable\"><input class=\"sk-toggleable__control sk-hidden--visually\" id=\"sk-estimator-id-3\" type=\"checkbox\" ><label for=\"sk-estimator-id-3\" class=\"sk-toggleable__label sk-toggleable__label-arrow\">estimator: DecisionTreeClassifier</label><div class=\"sk-toggleable__content\"><pre>DecisionTreeClassifier()</pre></div></div></div><div class=\"sk-serial\"><div class=\"sk-item\"><div class=\"sk-estimator sk-toggleable\"><input class=\"sk-toggleable__control sk-hidden--visually\" id=\"sk-estimator-id-4\" type=\"checkbox\" ><label for=\"sk-estimator-id-4\" class=\"sk-toggleable__label sk-toggleable__label-arrow\">DecisionTreeClassifier</label><div class=\"sk-toggleable__content\"><pre>DecisionTreeClassifier()</pre></div></div></div></div></div></div></div></div></div></div>"
      ],
      "text/plain": [
       "GridSearchCV(cv=5, estimator=DecisionTreeClassifier(), n_jobs=-1,\n",
       "             param_grid={'criterion': ['gini', 'entropy'],\n",
       "                         'max_depth': [5, 6, 7]})"
      ]
     },
     "execution_count": 32,
     "metadata": {},
     "output_type": "execute_result"
    }
   ],
   "source": [
    "from sklearn.model_selection import GridSearchCV\n",
    "grid_param = { \n",
    "    'criterion':['gini','entropy'],\n",
    "    'max_depth' : [ 5,6,7] \n",
    "}\n",
    "grid_search = GridSearchCV(estimator=dtc,param_grid=grid_param,cv=5,n_jobs=-1)\n",
    "grid_search.fit(x_train,y_train)"
   ]
  },
  {
   "cell_type": "code",
   "execution_count": 33,
   "id": "5abae761",
   "metadata": {},
   "outputs": [
    {
     "data": {
      "text/plain": [
       "{'criterion': 'entropy', 'max_depth': 6}"
      ]
     },
     "execution_count": 33,
     "metadata": {},
     "output_type": "execute_result"
    }
   ],
   "source": [
    "grid_search.best_params_"
   ]
  },
  {
   "cell_type": "code",
   "execution_count": 34,
   "id": "5fe0fe6e",
   "metadata": {},
   "outputs": [
    {
     "data": {
      "text/html": [
       "<style>#sk-container-id-3 {color: black;background-color: white;}#sk-container-id-3 pre{padding: 0;}#sk-container-id-3 div.sk-toggleable {background-color: white;}#sk-container-id-3 label.sk-toggleable__label {cursor: pointer;display: block;width: 100%;margin-bottom: 0;padding: 0.3em;box-sizing: border-box;text-align: center;}#sk-container-id-3 label.sk-toggleable__label-arrow:before {content: \"▸\";float: left;margin-right: 0.25em;color: #696969;}#sk-container-id-3 label.sk-toggleable__label-arrow:hover:before {color: black;}#sk-container-id-3 div.sk-estimator:hover label.sk-toggleable__label-arrow:before {color: black;}#sk-container-id-3 div.sk-toggleable__content {max-height: 0;max-width: 0;overflow: hidden;text-align: left;background-color: #f0f8ff;}#sk-container-id-3 div.sk-toggleable__content pre {margin: 0.2em;color: black;border-radius: 0.25em;background-color: #f0f8ff;}#sk-container-id-3 input.sk-toggleable__control:checked~div.sk-toggleable__content {max-height: 200px;max-width: 100%;overflow: auto;}#sk-container-id-3 input.sk-toggleable__control:checked~label.sk-toggleable__label-arrow:before {content: \"▾\";}#sk-container-id-3 div.sk-estimator input.sk-toggleable__control:checked~label.sk-toggleable__label {background-color: #d4ebff;}#sk-container-id-3 div.sk-label input.sk-toggleable__control:checked~label.sk-toggleable__label {background-color: #d4ebff;}#sk-container-id-3 input.sk-hidden--visually {border: 0;clip: rect(1px 1px 1px 1px);clip: rect(1px, 1px, 1px, 1px);height: 1px;margin: -1px;overflow: hidden;padding: 0;position: absolute;width: 1px;}#sk-container-id-3 div.sk-estimator {font-family: monospace;background-color: #f0f8ff;border: 1px dotted black;border-radius: 0.25em;box-sizing: border-box;margin-bottom: 0.5em;}#sk-container-id-3 div.sk-estimator:hover {background-color: #d4ebff;}#sk-container-id-3 div.sk-parallel-item::after {content: \"\";width: 100%;border-bottom: 1px solid gray;flex-grow: 1;}#sk-container-id-3 div.sk-label:hover label.sk-toggleable__label {background-color: #d4ebff;}#sk-container-id-3 div.sk-serial::before {content: \"\";position: absolute;border-left: 1px solid gray;box-sizing: border-box;top: 0;bottom: 0;left: 50%;z-index: 0;}#sk-container-id-3 div.sk-serial {display: flex;flex-direction: column;align-items: center;background-color: white;padding-right: 0.2em;padding-left: 0.2em;position: relative;}#sk-container-id-3 div.sk-item {position: relative;z-index: 1;}#sk-container-id-3 div.sk-parallel {display: flex;align-items: stretch;justify-content: center;background-color: white;position: relative;}#sk-container-id-3 div.sk-item::before, #sk-container-id-3 div.sk-parallel-item::before {content: \"\";position: absolute;border-left: 1px solid gray;box-sizing: border-box;top: 0;bottom: 0;left: 50%;z-index: -1;}#sk-container-id-3 div.sk-parallel-item {display: flex;flex-direction: column;z-index: 1;position: relative;background-color: white;}#sk-container-id-3 div.sk-parallel-item:first-child::after {align-self: flex-end;width: 50%;}#sk-container-id-3 div.sk-parallel-item:last-child::after {align-self: flex-start;width: 50%;}#sk-container-id-3 div.sk-parallel-item:only-child::after {width: 0;}#sk-container-id-3 div.sk-dashed-wrapped {border: 1px dashed gray;margin: 0 0.4em 0.5em 0.4em;box-sizing: border-box;padding-bottom: 0.4em;background-color: white;}#sk-container-id-3 div.sk-label label {font-family: monospace;font-weight: bold;display: inline-block;line-height: 1.2em;}#sk-container-id-3 div.sk-label-container {text-align: center;}#sk-container-id-3 div.sk-container {/* jupyter's `normalize.less` sets `[hidden] { display: none; }` but bootstrap.min.css set `[hidden] { display: none !important; }` so we also need the `!important` here to be able to override the default hidden behavior on the sphinx rendered scikit-learn.org. See: https://github.com/scikit-learn/scikit-learn/issues/21755 */display: inline-block !important;position: relative;}#sk-container-id-3 div.sk-text-repr-fallback {display: none;}</style><div id=\"sk-container-id-3\" class=\"sk-top-container\"><div class=\"sk-text-repr-fallback\"><pre>DecisionTreeClassifier(criterion=&#x27;entropy&#x27;, max_depth=5)</pre><b>In a Jupyter environment, please rerun this cell to show the HTML representation or trust the notebook. <br />On GitHub, the HTML representation is unable to render, please try loading this page with nbviewer.org.</b></div><div class=\"sk-container\" hidden><div class=\"sk-item\"><div class=\"sk-estimator sk-toggleable\"><input class=\"sk-toggleable__control sk-hidden--visually\" id=\"sk-estimator-id-5\" type=\"checkbox\" checked><label for=\"sk-estimator-id-5\" class=\"sk-toggleable__label sk-toggleable__label-arrow\">DecisionTreeClassifier</label><div class=\"sk-toggleable__content\"><pre>DecisionTreeClassifier(criterion=&#x27;entropy&#x27;, max_depth=5)</pre></div></div></div></div></div>"
      ],
      "text/plain": [
       "DecisionTreeClassifier(criterion='entropy', max_depth=5)"
      ]
     },
     "execution_count": 34,
     "metadata": {},
     "output_type": "execute_result"
    }
   ],
   "source": [
    "dtc_hyper = DecisionTreeClassifier(criterion='entropy',max_depth=5)\n",
    "dtc_hyper.fit(x_train,y_train)"
   ]
  },
  {
   "cell_type": "code",
   "execution_count": 35,
   "id": "76896081",
   "metadata": {},
   "outputs": [
    {
     "data": {
      "text/plain": [
       "0.95"
      ]
     },
     "execution_count": 35,
     "metadata": {},
     "output_type": "execute_result"
    }
   ],
   "source": [
    "y_pred_hyper = dtc_hyper.predict(x_test)\n",
    "accuracy_score(y_test,y_pred_hyper)"
   ]
  },
  {
   "cell_type": "code",
   "execution_count": 36,
   "id": "664cc835",
   "metadata": {},
   "outputs": [
    {
     "data": {
      "text/plain": [
       "array([[54,  3],\n",
       "       [ 4, 19]], dtype=int64)"
      ]
     },
     "execution_count": 36,
     "metadata": {},
     "output_type": "execute_result"
    }
   ],
   "source": [
    "confusion_matrix(y_pred,y_test)"
   ]
  },
  {
   "cell_type": "code",
   "execution_count": 37,
   "id": "2e5b83b8",
   "metadata": {},
   "outputs": [
    {
     "data": {
      "text/plain": [
       "array([[56,  2],\n",
       "       [ 2, 20]], dtype=int64)"
      ]
     },
     "execution_count": 37,
     "metadata": {},
     "output_type": "execute_result"
    }
   ],
   "source": [
    "confusion_matrix(y_pred_hyper,y_test)"
   ]
  }
 ],
 "metadata": {
  "kernelspec": {
   "display_name": "Python 3 (ipykernel)",
   "language": "python",
   "name": "python3"
  },
  "language_info": {
   "codemirror_mode": {
    "name": "ipython",
    "version": 3
   },
   "file_extension": ".py",
   "mimetype": "text/x-python",
   "name": "python",
   "nbconvert_exporter": "python",
   "pygments_lexer": "ipython3",
   "version": "3.9.12"
  }
 },
 "nbformat": 4,
 "nbformat_minor": 5
}
